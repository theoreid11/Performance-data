{
 "cells": [
  {
   "cell_type": "code",
   "execution_count": 1,
   "id": "b05519d9",
   "metadata": {},
   "outputs": [],
   "source": [
    "import numpy as np\n",
    "import pandas as pd\n",
    "import matplotlib.pyplot as plt\n",
    "import re \n",
    "import ast\n",
    "import seaborn as sns\n",
    "\n",
    "import xgboost as xgb\n",
    "from sklearn.datasets import load_boston\n",
    "from sklearn.model_selection import train_test_split\n",
    "from sklearn.metrics import mean_squared_error\n",
    "\n",
    "from sklearn.model_selection import train_test_split\n",
    "from sklearn.preprocessing import StandardScaler, OneHotEncoder\n",
    "from sklearn.compose import ColumnTransformer\n",
    "from sklearn.pipeline import Pipeline\n",
    "from sklearn.impute import SimpleImputer\n",
    "from sklearn.ensemble import RandomForestRegressor\n",
    "from sklearn.metrics import mean_squared_error, r2_score, mean_absolute_error\n",
    "from sklearn.model_selection import GridSearchCV\n",
    "from keras.wrappers.scikit_learn import KerasRegressor\n",
    "from sklearn.metrics import confusion_matrix\n",
    "\n",
    "from sklearn.linear_model import LinearRegression\n",
    "from sklearn.model_selection import train_test_split\n",
    "\n",
    "from keras.regularizers import l1, l2\n",
    "from keras.callbacks import EarlyStopping\n",
    "from keras.optimizers import Adam\n",
    "from keras.layers import Dropout\n",
    "from keras.layers import BatchNormalization\n",
    "\n",
    "\n",
    "import tensorflow as tf\n",
    "from tensorflow.keras.models import Sequential\n",
    "from tensorflow.keras.layers import Dense\n"
   ]
  },
  {
   "cell_type": "code",
   "execution_count": 2,
   "id": "846fb660",
   "metadata": {},
   "outputs": [
    {
     "name": "stdout",
     "output_type": "stream",
     "text": [
      "{'n_units': [4, 8], 'dropout_rate': [0.05, 0.1, 0.15], 'regularization': [0.001]}\n"
     ]
    }
   ],
   "source": [
    "with open('params.txt') as f:\n",
    "    params_text = f.read()\n",
    "\n",
    "# Safely evaluate the string as a Python expression\n",
    "grid_search_params = ast.literal_eval(params_text)\n",
    "\n",
    "print(grid_search_params)"
   ]
  },
  {
   "cell_type": "code",
   "execution_count": 3,
   "id": "ed36988d",
   "metadata": {},
   "outputs": [
    {
     "name": "stderr",
     "output_type": "stream",
     "text": [
      "2024-03-07 16:10:43,758 INFO dune_client.api.base executing 3456959 on medium cluster\n"
     ]
    },
    {
     "name": "stdout",
     "output_type": "stream",
     "text": [
      "Results available at https://dune.com/queries/3456959\n"
     ]
    },
    {
     "name": "stderr",
     "output_type": "stream",
     "text": [
      "2024-03-07 16:10:44,080 INFO dune_client.api.base waiting for query execution 01HRCTWTMZV1E05DP7XYXW9PP4 to complete: ExecutionState.PENDING (queue position: 2)\n",
      "2024-03-07 16:10:45,221 INFO dune_client.api.base waiting for query execution 01HRCTWTMZV1E05DP7XYXW9PP4 to complete: ExecutionState.PENDING (queue position: 2)\n",
      "2024-03-07 16:10:46,336 INFO dune_client.api.base waiting for query execution 01HRCTWTMZV1E05DP7XYXW9PP4 to complete: ExecutionState.EXECUTING\n",
      "2024-03-07 16:10:47,454 INFO dune_client.api.base waiting for query execution 01HRCTWTMZV1E05DP7XYXW9PP4 to complete: ExecutionState.EXECUTING\n",
      "2024-03-07 16:10:48,583 INFO dune_client.api.base waiting for query execution 01HRCTWTMZV1E05DP7XYXW9PP4 to complete: ExecutionState.EXECUTING\n",
      "2024-03-07 16:10:49,713 INFO dune_client.api.base waiting for query execution 01HRCTWTMZV1E05DP7XYXW9PP4 to complete: ExecutionState.EXECUTING\n",
      "2024-03-07 16:10:50,827 INFO dune_client.api.base waiting for query execution 01HRCTWTMZV1E05DP7XYXW9PP4 to complete: ExecutionState.EXECUTING\n",
      "2024-03-07 16:10:51,961 INFO dune_client.api.base waiting for query execution 01HRCTWTMZV1E05DP7XYXW9PP4 to complete: ExecutionState.EXECUTING\n",
      "2024-03-07 16:10:53,075 INFO dune_client.api.base waiting for query execution 01HRCTWTMZV1E05DP7XYXW9PP4 to complete: ExecutionState.EXECUTING\n",
      "2024-03-07 16:10:54,201 INFO dune_client.api.base waiting for query execution 01HRCTWTMZV1E05DP7XYXW9PP4 to complete: ExecutionState.EXECUTING\n",
      "2024-03-07 16:10:55,338 INFO dune_client.api.base waiting for query execution 01HRCTWTMZV1E05DP7XYXW9PP4 to complete: ExecutionState.EXECUTING\n",
      "2024-03-07 16:10:56,476 INFO dune_client.api.base waiting for query execution 01HRCTWTMZV1E05DP7XYXW9PP4 to complete: ExecutionState.EXECUTING\n",
      "2024-03-07 16:10:57,610 INFO dune_client.api.base waiting for query execution 01HRCTWTMZV1E05DP7XYXW9PP4 to complete: ExecutionState.EXECUTING\n",
      "2024-03-07 16:10:58,722 INFO dune_client.api.base waiting for query execution 01HRCTWTMZV1E05DP7XYXW9PP4 to complete: ExecutionState.EXECUTING\n",
      "2024-03-07 16:10:59,841 INFO dune_client.api.base waiting for query execution 01HRCTWTMZV1E05DP7XYXW9PP4 to complete: ExecutionState.EXECUTING\n",
      "2024-03-07 16:11:01,008 INFO dune_client.api.base waiting for query execution 01HRCTWTMZV1E05DP7XYXW9PP4 to complete: ExecutionState.EXECUTING\n",
      "2024-03-07 16:11:02,133 INFO dune_client.api.base waiting for query execution 01HRCTWTMZV1E05DP7XYXW9PP4 to complete: ExecutionState.EXECUTING\n",
      "2024-03-07 16:11:03,259 INFO dune_client.api.base waiting for query execution 01HRCTWTMZV1E05DP7XYXW9PP4 to complete: ExecutionState.EXECUTING\n",
      "2024-03-07 16:11:04,394 INFO dune_client.api.base waiting for query execution 01HRCTWTMZV1E05DP7XYXW9PP4 to complete: ExecutionState.EXECUTING\n",
      "2024-03-07 16:11:05,523 INFO dune_client.api.base waiting for query execution 01HRCTWTMZV1E05DP7XYXW9PP4 to complete: ExecutionState.EXECUTING\n",
      "2024-03-07 16:11:06,662 INFO dune_client.api.base waiting for query execution 01HRCTWTMZV1E05DP7XYXW9PP4 to complete: ExecutionState.EXECUTING\n",
      "2024-03-07 16:11:07,784 INFO dune_client.api.base waiting for query execution 01HRCTWTMZV1E05DP7XYXW9PP4 to complete: ExecutionState.EXECUTING\n",
      "2024-03-07 16:11:08,907 INFO dune_client.api.base waiting for query execution 01HRCTWTMZV1E05DP7XYXW9PP4 to complete: ExecutionState.EXECUTING\n",
      "2024-03-07 16:11:10,020 INFO dune_client.api.base waiting for query execution 01HRCTWTMZV1E05DP7XYXW9PP4 to complete: ExecutionState.EXECUTING\n",
      "2024-03-07 16:11:11,158 INFO dune_client.api.base waiting for query execution 01HRCTWTMZV1E05DP7XYXW9PP4 to complete: ExecutionState.EXECUTING\n",
      "2024-03-07 16:11:12,281 INFO dune_client.api.base waiting for query execution 01HRCTWTMZV1E05DP7XYXW9PP4 to complete: ExecutionState.EXECUTING\n",
      "2024-03-07 16:11:13,394 INFO dune_client.api.base waiting for query execution 01HRCTWTMZV1E05DP7XYXW9PP4 to complete: ExecutionState.EXECUTING\n",
      "2024-03-07 16:11:14,512 INFO dune_client.api.base waiting for query execution 01HRCTWTMZV1E05DP7XYXW9PP4 to complete: ExecutionState.EXECUTING\n",
      "2024-03-07 16:11:15,642 INFO dune_client.api.base waiting for query execution 01HRCTWTMZV1E05DP7XYXW9PP4 to complete: ExecutionState.EXECUTING\n",
      "2024-03-07 16:11:16,767 INFO dune_client.api.base waiting for query execution 01HRCTWTMZV1E05DP7XYXW9PP4 to complete: ExecutionState.EXECUTING\n",
      "2024-03-07 16:11:17,896 INFO dune_client.api.base waiting for query execution 01HRCTWTMZV1E05DP7XYXW9PP4 to complete: ExecutionState.EXECUTING\n",
      "2024-03-07 16:11:19,019 INFO dune_client.api.base waiting for query execution 01HRCTWTMZV1E05DP7XYXW9PP4 to complete: ExecutionState.EXECUTING\n",
      "2024-03-07 16:11:20,212 INFO dune_client.api.base waiting for query execution 01HRCTWTMZV1E05DP7XYXW9PP4 to complete: ExecutionState.EXECUTING\n",
      "2024-03-07 16:11:21,596 INFO dune_client.api.base waiting for query execution 01HRCTWTMZV1E05DP7XYXW9PP4 to complete: ExecutionState.EXECUTING\n",
      "2024-03-07 16:11:22,748 INFO dune_client.api.base waiting for query execution 01HRCTWTMZV1E05DP7XYXW9PP4 to complete: ExecutionState.EXECUTING\n",
      "2024-03-07 16:11:23,877 INFO dune_client.api.base waiting for query execution 01HRCTWTMZV1E05DP7XYXW9PP4 to complete: ExecutionState.EXECUTING\n",
      "2024-03-07 16:11:25,004 INFO dune_client.api.base waiting for query execution 01HRCTWTMZV1E05DP7XYXW9PP4 to complete: ExecutionState.EXECUTING\n",
      "2024-03-07 16:11:26,128 INFO dune_client.api.base waiting for query execution 01HRCTWTMZV1E05DP7XYXW9PP4 to complete: ExecutionState.EXECUTING\n",
      "2024-03-07 16:11:27,258 INFO dune_client.api.base waiting for query execution 01HRCTWTMZV1E05DP7XYXW9PP4 to complete: ExecutionState.EXECUTING\n",
      "2024-03-07 16:11:28,395 INFO dune_client.api.base waiting for query execution 01HRCTWTMZV1E05DP7XYXW9PP4 to complete: ExecutionState.EXECUTING\n",
      "2024-03-07 16:11:29,517 INFO dune_client.api.base waiting for query execution 01HRCTWTMZV1E05DP7XYXW9PP4 to complete: ExecutionState.EXECUTING\n",
      "2024-03-07 16:11:30,629 INFO dune_client.api.base waiting for query execution 01HRCTWTMZV1E05DP7XYXW9PP4 to complete: ExecutionState.EXECUTING\n",
      "2024-03-07 16:11:31,748 INFO dune_client.api.base waiting for query execution 01HRCTWTMZV1E05DP7XYXW9PP4 to complete: ExecutionState.EXECUTING\n",
      "2024-03-07 16:11:32,877 INFO dune_client.api.base waiting for query execution 01HRCTWTMZV1E05DP7XYXW9PP4 to complete: ExecutionState.EXECUTING\n",
      "2024-03-07 16:11:34,001 INFO dune_client.api.base waiting for query execution 01HRCTWTMZV1E05DP7XYXW9PP4 to complete: ExecutionState.EXECUTING\n",
      "2024-03-07 16:11:35,121 INFO dune_client.api.base waiting for query execution 01HRCTWTMZV1E05DP7XYXW9PP4 to complete: ExecutionState.EXECUTING\n",
      "2024-03-07 16:11:36,251 INFO dune_client.api.base waiting for query execution 01HRCTWTMZV1E05DP7XYXW9PP4 to complete: ExecutionState.EXECUTING\n",
      "2024-03-07 16:11:37,372 INFO dune_client.api.base waiting for query execution 01HRCTWTMZV1E05DP7XYXW9PP4 to complete: ExecutionState.EXECUTING\n",
      "2024-03-07 16:11:38,494 INFO dune_client.api.base waiting for query execution 01HRCTWTMZV1E05DP7XYXW9PP4 to complete: ExecutionState.EXECUTING\n",
      "2024-03-07 16:11:39,626 INFO dune_client.api.base waiting for query execution 01HRCTWTMZV1E05DP7XYXW9PP4 to complete: ExecutionState.EXECUTING\n",
      "2024-03-07 16:11:40,752 INFO dune_client.api.base waiting for query execution 01HRCTWTMZV1E05DP7XYXW9PP4 to complete: ExecutionState.EXECUTING\n",
      "2024-03-07 16:11:41,867 INFO dune_client.api.base waiting for query execution 01HRCTWTMZV1E05DP7XYXW9PP4 to complete: ExecutionState.EXECUTING\n",
      "2024-03-07 16:11:42,993 INFO dune_client.api.base waiting for query execution 01HRCTWTMZV1E05DP7XYXW9PP4 to complete: ExecutionState.EXECUTING\n",
      "2024-03-07 16:11:44,188 INFO dune_client.api.base waiting for query execution 01HRCTWTMZV1E05DP7XYXW9PP4 to complete: ExecutionState.EXECUTING\n",
      "2024-03-07 16:11:45,300 INFO dune_client.api.base waiting for query execution 01HRCTWTMZV1E05DP7XYXW9PP4 to complete: ExecutionState.EXECUTING\n",
      "2024-03-07 16:11:46,437 INFO dune_client.api.base waiting for query execution 01HRCTWTMZV1E05DP7XYXW9PP4 to complete: ExecutionState.EXECUTING\n",
      "2024-03-07 16:11:47,582 INFO dune_client.api.base waiting for query execution 01HRCTWTMZV1E05DP7XYXW9PP4 to complete: ExecutionState.EXECUTING\n",
      "2024-03-07 16:11:48,718 INFO dune_client.api.base waiting for query execution 01HRCTWTMZV1E05DP7XYXW9PP4 to complete: ExecutionState.EXECUTING\n"
     ]
    },
    {
     "name": "stderr",
     "output_type": "stream",
     "text": [
      "2024-03-07 16:11:49,837 INFO dune_client.api.base waiting for query execution 01HRCTWTMZV1E05DP7XYXW9PP4 to complete: ExecutionState.EXECUTING\n",
      "2024-03-07 16:11:50,956 INFO dune_client.api.base waiting for query execution 01HRCTWTMZV1E05DP7XYXW9PP4 to complete: ExecutionState.EXECUTING\n",
      "2024-03-07 16:11:52,101 INFO dune_client.api.base waiting for query execution 01HRCTWTMZV1E05DP7XYXW9PP4 to complete: ExecutionState.EXECUTING\n",
      "2024-03-07 16:11:53,239 INFO dune_client.api.base waiting for query execution 01HRCTWTMZV1E05DP7XYXW9PP4 to complete: ExecutionState.EXECUTING\n",
      "2024-03-07 16:11:54,400 INFO dune_client.api.base waiting for query execution 01HRCTWTMZV1E05DP7XYXW9PP4 to complete: ExecutionState.EXECUTING\n",
      "2024-03-07 16:11:55,542 INFO dune_client.api.base waiting for query execution 01HRCTWTMZV1E05DP7XYXW9PP4 to complete: ExecutionState.EXECUTING\n",
      "2024-03-07 16:11:56,665 INFO dune_client.api.base waiting for query execution 01HRCTWTMZV1E05DP7XYXW9PP4 to complete: ExecutionState.EXECUTING\n",
      "2024-03-07 16:11:57,801 INFO dune_client.api.base waiting for query execution 01HRCTWTMZV1E05DP7XYXW9PP4 to complete: ExecutionState.EXECUTING\n",
      "2024-03-07 16:11:58,924 INFO dune_client.api.base waiting for query execution 01HRCTWTMZV1E05DP7XYXW9PP4 to complete: ExecutionState.EXECUTING\n",
      "2024-03-07 16:12:00,046 INFO dune_client.api.base waiting for query execution 01HRCTWTMZV1E05DP7XYXW9PP4 to complete: ExecutionState.EXECUTING\n",
      "2024-03-07 16:12:01,163 INFO dune_client.api.base waiting for query execution 01HRCTWTMZV1E05DP7XYXW9PP4 to complete: ExecutionState.EXECUTING\n",
      "2024-03-07 16:12:02,297 INFO dune_client.api.base waiting for query execution 01HRCTWTMZV1E05DP7XYXW9PP4 to complete: ExecutionState.EXECUTING\n",
      "2024-03-07 16:12:03,414 INFO dune_client.api.base waiting for query execution 01HRCTWTMZV1E05DP7XYXW9PP4 to complete: ExecutionState.EXECUTING\n",
      "2024-03-07 16:12:04,535 INFO dune_client.api.base waiting for query execution 01HRCTWTMZV1E05DP7XYXW9PP4 to complete: ExecutionState.EXECUTING\n",
      "2024-03-07 16:12:05,657 INFO dune_client.api.base waiting for query execution 01HRCTWTMZV1E05DP7XYXW9PP4 to complete: ExecutionState.EXECUTING\n",
      "2024-03-07 16:12:06,780 INFO dune_client.api.base waiting for query execution 01HRCTWTMZV1E05DP7XYXW9PP4 to complete: ExecutionState.EXECUTING\n",
      "2024-03-07 16:12:07,911 INFO dune_client.api.base waiting for query execution 01HRCTWTMZV1E05DP7XYXW9PP4 to complete: ExecutionState.EXECUTING\n",
      "2024-03-07 16:12:09,024 INFO dune_client.api.base waiting for query execution 01HRCTWTMZV1E05DP7XYXW9PP4 to complete: ExecutionState.EXECUTING\n",
      "2024-03-07 16:12:10,158 INFO dune_client.api.base waiting for query execution 01HRCTWTMZV1E05DP7XYXW9PP4 to complete: ExecutionState.EXECUTING\n",
      "2024-03-07 16:12:11,293 INFO dune_client.api.base waiting for query execution 01HRCTWTMZV1E05DP7XYXW9PP4 to complete: ExecutionState.EXECUTING\n",
      "2024-03-07 16:12:12,417 INFO dune_client.api.base waiting for query execution 01HRCTWTMZV1E05DP7XYXW9PP4 to complete: ExecutionState.EXECUTING\n",
      "2024-03-07 16:12:13,550 INFO dune_client.api.base waiting for query execution 01HRCTWTMZV1E05DP7XYXW9PP4 to complete: ExecutionState.EXECUTING\n",
      "2024-03-07 16:12:14,672 INFO dune_client.api.base waiting for query execution 01HRCTWTMZV1E05DP7XYXW9PP4 to complete: ExecutionState.EXECUTING\n",
      "2024-03-07 16:12:15,784 INFO dune_client.api.base waiting for query execution 01HRCTWTMZV1E05DP7XYXW9PP4 to complete: ExecutionState.EXECUTING\n",
      "2024-03-07 16:12:16,910 INFO dune_client.api.base waiting for query execution 01HRCTWTMZV1E05DP7XYXW9PP4 to complete: ExecutionState.EXECUTING\n",
      "2024-03-07 16:12:18,030 INFO dune_client.api.base waiting for query execution 01HRCTWTMZV1E05DP7XYXW9PP4 to complete: ExecutionState.EXECUTING\n",
      "2024-03-07 16:12:19,145 INFO dune_client.api.base waiting for query execution 01HRCTWTMZV1E05DP7XYXW9PP4 to complete: ExecutionState.EXECUTING\n",
      "2024-03-07 16:12:20,262 INFO dune_client.api.base waiting for query execution 01HRCTWTMZV1E05DP7XYXW9PP4 to complete: ExecutionState.EXECUTING\n",
      "2024-03-07 16:12:21,399 INFO dune_client.api.base waiting for query execution 01HRCTWTMZV1E05DP7XYXW9PP4 to complete: ExecutionState.EXECUTING\n",
      "2024-03-07 16:12:22,528 INFO dune_client.api.base waiting for query execution 01HRCTWTMZV1E05DP7XYXW9PP4 to complete: ExecutionState.EXECUTING\n",
      "2024-03-07 16:12:23,661 INFO dune_client.api.base waiting for query execution 01HRCTWTMZV1E05DP7XYXW9PP4 to complete: ExecutionState.EXECUTING\n",
      "2024-03-07 16:12:24,796 INFO dune_client.api.base waiting for query execution 01HRCTWTMZV1E05DP7XYXW9PP4 to complete: ExecutionState.EXECUTING\n",
      "2024-03-07 16:12:25,930 INFO dune_client.api.base waiting for query execution 01HRCTWTMZV1E05DP7XYXW9PP4 to complete: ExecutionState.EXECUTING\n",
      "2024-03-07 16:12:27,039 INFO dune_client.api.base waiting for query execution 01HRCTWTMZV1E05DP7XYXW9PP4 to complete: ExecutionState.EXECUTING\n",
      "2024-03-07 16:12:28,166 INFO dune_client.api.base waiting for query execution 01HRCTWTMZV1E05DP7XYXW9PP4 to complete: ExecutionState.EXECUTING\n",
      "2024-03-07 16:12:29,284 INFO dune_client.api.base waiting for query execution 01HRCTWTMZV1E05DP7XYXW9PP4 to complete: ExecutionState.EXECUTING\n",
      "2024-03-07 16:12:30,400 INFO dune_client.api.base waiting for query execution 01HRCTWTMZV1E05DP7XYXW9PP4 to complete: ExecutionState.EXECUTING\n",
      "2024-03-07 16:12:31,515 INFO dune_client.api.base waiting for query execution 01HRCTWTMZV1E05DP7XYXW9PP4 to complete: ExecutionState.EXECUTING\n",
      "2024-03-07 16:12:32,645 INFO dune_client.api.base waiting for query execution 01HRCTWTMZV1E05DP7XYXW9PP4 to complete: ExecutionState.EXECUTING\n",
      "2024-03-07 16:12:33,771 INFO dune_client.api.base waiting for query execution 01HRCTWTMZV1E05DP7XYXW9PP4 to complete: ExecutionState.EXECUTING\n",
      "2024-03-07 16:12:34,891 INFO dune_client.api.base waiting for query execution 01HRCTWTMZV1E05DP7XYXW9PP4 to complete: ExecutionState.EXECUTING\n",
      "2024-03-07 16:12:36,004 INFO dune_client.api.base waiting for query execution 01HRCTWTMZV1E05DP7XYXW9PP4 to complete: ExecutionState.EXECUTING\n",
      "2024-03-07 16:12:37,142 INFO dune_client.api.base waiting for query execution 01HRCTWTMZV1E05DP7XYXW9PP4 to complete: ExecutionState.EXECUTING\n",
      "2024-03-07 16:12:38,277 INFO dune_client.api.base waiting for query execution 01HRCTWTMZV1E05DP7XYXW9PP4 to complete: ExecutionState.EXECUTING\n",
      "2024-03-07 16:12:39,400 INFO dune_client.api.base waiting for query execution 01HRCTWTMZV1E05DP7XYXW9PP4 to complete: ExecutionState.EXECUTING\n",
      "2024-03-07 16:12:40,517 INFO dune_client.api.base waiting for query execution 01HRCTWTMZV1E05DP7XYXW9PP4 to complete: ExecutionState.EXECUTING\n",
      "2024-03-07 16:12:41,639 INFO dune_client.api.base waiting for query execution 01HRCTWTMZV1E05DP7XYXW9PP4 to complete: ExecutionState.EXECUTING\n",
      "2024-03-07 16:12:42,805 INFO dune_client.api.base waiting for query execution 01HRCTWTMZV1E05DP7XYXW9PP4 to complete: ExecutionState.EXECUTING\n",
      "2024-03-07 16:12:43,957 INFO dune_client.api.base waiting for query execution 01HRCTWTMZV1E05DP7XYXW9PP4 to complete: ExecutionState.EXECUTING\n",
      "2024-03-07 16:12:45,071 INFO dune_client.api.base waiting for query execution 01HRCTWTMZV1E05DP7XYXW9PP4 to complete: ExecutionState.EXECUTING\n",
      "2024-03-07 16:12:46,191 INFO dune_client.api.base waiting for query execution 01HRCTWTMZV1E05DP7XYXW9PP4 to complete: ExecutionState.EXECUTING\n",
      "2024-03-07 16:12:47,316 INFO dune_client.api.base waiting for query execution 01HRCTWTMZV1E05DP7XYXW9PP4 to complete: ExecutionState.EXECUTING\n",
      "2024-03-07 16:12:48,444 INFO dune_client.api.base waiting for query execution 01HRCTWTMZV1E05DP7XYXW9PP4 to complete: ExecutionState.EXECUTING\n",
      "2024-03-07 16:12:49,580 INFO dune_client.api.base waiting for query execution 01HRCTWTMZV1E05DP7XYXW9PP4 to complete: ExecutionState.EXECUTING\n",
      "2024-03-07 16:12:50,718 INFO dune_client.api.base waiting for query execution 01HRCTWTMZV1E05DP7XYXW9PP4 to complete: ExecutionState.EXECUTING\n",
      "2024-03-07 16:12:51,925 INFO dune_client.api.base waiting for query execution 01HRCTWTMZV1E05DP7XYXW9PP4 to complete: ExecutionState.EXECUTING\n",
      "2024-03-07 16:12:53,076 INFO dune_client.api.base waiting for query execution 01HRCTWTMZV1E05DP7XYXW9PP4 to complete: ExecutionState.EXECUTING\n",
      "2024-03-07 16:12:54,217 INFO dune_client.api.base waiting for query execution 01HRCTWTMZV1E05DP7XYXW9PP4 to complete: ExecutionState.EXECUTING\n"
     ]
    },
    {
     "name": "stderr",
     "output_type": "stream",
     "text": [
      "2024-03-07 16:12:55,383 INFO dune_client.api.base waiting for query execution 01HRCTWTMZV1E05DP7XYXW9PP4 to complete: ExecutionState.EXECUTING\n",
      "2024-03-07 16:12:56,521 INFO dune_client.api.base waiting for query execution 01HRCTWTMZV1E05DP7XYXW9PP4 to complete: ExecutionState.EXECUTING\n",
      "2024-03-07 16:12:57,661 INFO dune_client.api.base waiting for query execution 01HRCTWTMZV1E05DP7XYXW9PP4 to complete: ExecutionState.EXECUTING\n",
      "2024-03-07 16:12:58,798 INFO dune_client.api.base waiting for query execution 01HRCTWTMZV1E05DP7XYXW9PP4 to complete: ExecutionState.EXECUTING\n",
      "2024-03-07 16:12:59,926 INFO dune_client.api.base waiting for query execution 01HRCTWTMZV1E05DP7XYXW9PP4 to complete: ExecutionState.EXECUTING\n",
      "2024-03-07 16:13:02,048 INFO dune_client.api.base waiting for query execution 01HRCTWTMZV1E05DP7XYXW9PP4 to complete: ExecutionState.EXECUTING\n",
      "2024-03-07 16:13:03,187 INFO dune_client.api.base waiting for query execution 01HRCTWTMZV1E05DP7XYXW9PP4 to complete: ExecutionState.EXECUTING\n",
      "2024-03-07 16:13:04,310 INFO dune_client.api.base waiting for query execution 01HRCTWTMZV1E05DP7XYXW9PP4 to complete: ExecutionState.EXECUTING\n",
      "2024-03-07 16:13:05,434 INFO dune_client.api.base waiting for query execution 01HRCTWTMZV1E05DP7XYXW9PP4 to complete: ExecutionState.EXECUTING\n",
      "2024-03-07 16:13:06,557 INFO dune_client.api.base waiting for query execution 01HRCTWTMZV1E05DP7XYXW9PP4 to complete: ExecutionState.EXECUTING\n",
      "2024-03-07 16:13:07,710 INFO dune_client.api.base waiting for query execution 01HRCTWTMZV1E05DP7XYXW9PP4 to complete: ExecutionState.EXECUTING\n",
      "2024-03-07 16:13:08,852 INFO dune_client.api.base waiting for query execution 01HRCTWTMZV1E05DP7XYXW9PP4 to complete: ExecutionState.EXECUTING\n",
      "2024-03-07 16:13:09,977 INFO dune_client.api.base waiting for query execution 01HRCTWTMZV1E05DP7XYXW9PP4 to complete: ExecutionState.EXECUTING\n",
      "2024-03-07 16:13:11,096 INFO dune_client.api.base waiting for query execution 01HRCTWTMZV1E05DP7XYXW9PP4 to complete: ExecutionState.EXECUTING\n",
      "2024-03-07 16:13:12,213 INFO dune_client.api.base waiting for query execution 01HRCTWTMZV1E05DP7XYXW9PP4 to complete: ExecutionState.EXECUTING\n",
      "2024-03-07 16:13:13,344 INFO dune_client.api.base waiting for query execution 01HRCTWTMZV1E05DP7XYXW9PP4 to complete: ExecutionState.EXECUTING\n",
      "2024-03-07 16:13:14,482 INFO dune_client.api.base waiting for query execution 01HRCTWTMZV1E05DP7XYXW9PP4 to complete: ExecutionState.EXECUTING\n",
      "2024-03-07 16:13:15,607 INFO dune_client.api.base waiting for query execution 01HRCTWTMZV1E05DP7XYXW9PP4 to complete: ExecutionState.EXECUTING\n",
      "2024-03-07 16:13:16,727 INFO dune_client.api.base waiting for query execution 01HRCTWTMZV1E05DP7XYXW9PP4 to complete: ExecutionState.EXECUTING\n",
      "2024-03-07 16:13:17,858 INFO dune_client.api.base waiting for query execution 01HRCTWTMZV1E05DP7XYXW9PP4 to complete: ExecutionState.EXECUTING\n",
      "2024-03-07 16:13:18,984 INFO dune_client.api.base waiting for query execution 01HRCTWTMZV1E05DP7XYXW9PP4 to complete: ExecutionState.EXECUTING\n",
      "2024-03-07 16:13:20,120 INFO dune_client.api.base waiting for query execution 01HRCTWTMZV1E05DP7XYXW9PP4 to complete: ExecutionState.EXECUTING\n",
      "2024-03-07 16:13:21,262 INFO dune_client.api.base waiting for query execution 01HRCTWTMZV1E05DP7XYXW9PP4 to complete: ExecutionState.EXECUTING\n",
      "2024-03-07 16:13:22,388 INFO dune_client.api.base waiting for query execution 01HRCTWTMZV1E05DP7XYXW9PP4 to complete: ExecutionState.EXECUTING\n",
      "2024-03-07 16:13:23,528 INFO dune_client.api.base waiting for query execution 01HRCTWTMZV1E05DP7XYXW9PP4 to complete: ExecutionState.EXECUTING\n",
      "2024-03-07 16:13:24,677 INFO dune_client.api.base waiting for query execution 01HRCTWTMZV1E05DP7XYXW9PP4 to complete: ExecutionState.EXECUTING\n",
      "2024-03-07 16:13:25,807 INFO dune_client.api.base waiting for query execution 01HRCTWTMZV1E05DP7XYXW9PP4 to complete: ExecutionState.EXECUTING\n",
      "2024-03-07 16:13:26,929 INFO dune_client.api.base waiting for query execution 01HRCTWTMZV1E05DP7XYXW9PP4 to complete: ExecutionState.EXECUTING\n",
      "2024-03-07 16:13:28,057 INFO dune_client.api.base waiting for query execution 01HRCTWTMZV1E05DP7XYXW9PP4 to complete: ExecutionState.EXECUTING\n",
      "2024-03-07 16:13:29,209 INFO dune_client.api.base waiting for query execution 01HRCTWTMZV1E05DP7XYXW9PP4 to complete: ExecutionState.EXECUTING\n",
      "2024-03-07 16:13:30,335 INFO dune_client.api.base waiting for query execution 01HRCTWTMZV1E05DP7XYXW9PP4 to complete: ExecutionState.EXECUTING\n",
      "2024-03-07 16:13:31,461 INFO dune_client.api.base waiting for query execution 01HRCTWTMZV1E05DP7XYXW9PP4 to complete: ExecutionState.EXECUTING\n",
      "2024-03-07 16:13:32,577 INFO dune_client.api.base waiting for query execution 01HRCTWTMZV1E05DP7XYXW9PP4 to complete: ExecutionState.EXECUTING\n",
      "2024-03-07 16:13:33,697 INFO dune_client.api.base waiting for query execution 01HRCTWTMZV1E05DP7XYXW9PP4 to complete: ExecutionState.EXECUTING\n",
      "2024-03-07 16:13:34,835 INFO dune_client.api.base waiting for query execution 01HRCTWTMZV1E05DP7XYXW9PP4 to complete: ExecutionState.EXECUTING\n",
      "2024-03-07 16:13:35,952 INFO dune_client.api.base waiting for query execution 01HRCTWTMZV1E05DP7XYXW9PP4 to complete: ExecutionState.EXECUTING\n",
      "2024-03-07 16:13:37,070 INFO dune_client.api.base waiting for query execution 01HRCTWTMZV1E05DP7XYXW9PP4 to complete: ExecutionState.EXECUTING\n",
      "2024-03-07 16:13:38,193 INFO dune_client.api.base waiting for query execution 01HRCTWTMZV1E05DP7XYXW9PP4 to complete: ExecutionState.EXECUTING\n",
      "2024-03-07 16:13:39,307 INFO dune_client.api.base waiting for query execution 01HRCTWTMZV1E05DP7XYXW9PP4 to complete: ExecutionState.EXECUTING\n",
      "2024-03-07 16:13:40,414 INFO dune_client.api.base waiting for query execution 01HRCTWTMZV1E05DP7XYXW9PP4 to complete: ExecutionState.EXECUTING\n",
      "2024-03-07 16:13:41,552 INFO dune_client.api.base waiting for query execution 01HRCTWTMZV1E05DP7XYXW9PP4 to complete: ExecutionState.EXECUTING\n",
      "2024-03-07 16:13:42,673 INFO dune_client.api.base waiting for query execution 01HRCTWTMZV1E05DP7XYXW9PP4 to complete: ExecutionState.EXECUTING\n",
      "2024-03-07 16:13:43,831 INFO dune_client.api.base waiting for query execution 01HRCTWTMZV1E05DP7XYXW9PP4 to complete: ExecutionState.EXECUTING\n",
      "2024-03-07 16:13:44,947 INFO dune_client.api.base waiting for query execution 01HRCTWTMZV1E05DP7XYXW9PP4 to complete: ExecutionState.EXECUTING\n",
      "2024-03-07 16:13:46,079 INFO dune_client.api.base waiting for query execution 01HRCTWTMZV1E05DP7XYXW9PP4 to complete: ExecutionState.EXECUTING\n",
      "2024-03-07 16:13:47,199 INFO dune_client.api.base waiting for query execution 01HRCTWTMZV1E05DP7XYXW9PP4 to complete: ExecutionState.EXECUTING\n",
      "2024-03-07 16:13:48,331 INFO dune_client.api.base waiting for query execution 01HRCTWTMZV1E05DP7XYXW9PP4 to complete: ExecutionState.EXECUTING\n",
      "2024-03-07 16:13:49,466 INFO dune_client.api.base waiting for query execution 01HRCTWTMZV1E05DP7XYXW9PP4 to complete: ExecutionState.EXECUTING\n",
      "2024-03-07 16:13:50,582 INFO dune_client.api.base waiting for query execution 01HRCTWTMZV1E05DP7XYXW9PP4 to complete: ExecutionState.EXECUTING\n",
      "2024-03-07 16:13:51,718 INFO dune_client.api.base waiting for query execution 01HRCTWTMZV1E05DP7XYXW9PP4 to complete: ExecutionState.EXECUTING\n",
      "2024-03-07 16:13:52,874 INFO dune_client.api.base waiting for query execution 01HRCTWTMZV1E05DP7XYXW9PP4 to complete: ExecutionState.EXECUTING\n",
      "2024-03-07 16:13:54,001 INFO dune_client.api.base waiting for query execution 01HRCTWTMZV1E05DP7XYXW9PP4 to complete: ExecutionState.EXECUTING\n",
      "2024-03-07 16:13:55,135 INFO dune_client.api.base waiting for query execution 01HRCTWTMZV1E05DP7XYXW9PP4 to complete: ExecutionState.EXECUTING\n",
      "2024-03-07 16:13:56,256 INFO dune_client.api.base waiting for query execution 01HRCTWTMZV1E05DP7XYXW9PP4 to complete: ExecutionState.EXECUTING\n",
      "2024-03-07 16:13:57,374 INFO dune_client.api.base waiting for query execution 01HRCTWTMZV1E05DP7XYXW9PP4 to complete: ExecutionState.EXECUTING\n",
      "2024-03-07 16:13:58,501 INFO dune_client.api.base waiting for query execution 01HRCTWTMZV1E05DP7XYXW9PP4 to complete: ExecutionState.EXECUTING\n",
      "2024-03-07 16:13:59,637 INFO dune_client.api.base waiting for query execution 01HRCTWTMZV1E05DP7XYXW9PP4 to complete: ExecutionState.EXECUTING\n",
      "2024-03-07 16:14:00,748 INFO dune_client.api.base waiting for query execution 01HRCTWTMZV1E05DP7XYXW9PP4 to complete: ExecutionState.EXECUTING\n"
     ]
    },
    {
     "name": "stderr",
     "output_type": "stream",
     "text": [
      "2024-03-07 16:14:01,863 INFO dune_client.api.base waiting for query execution 01HRCTWTMZV1E05DP7XYXW9PP4 to complete: ExecutionState.EXECUTING\n",
      "2024-03-07 16:14:02,985 INFO dune_client.api.base waiting for query execution 01HRCTWTMZV1E05DP7XYXW9PP4 to complete: ExecutionState.EXECUTING\n",
      "2024-03-07 16:14:04,200 INFO dune_client.api.base waiting for query execution 01HRCTWTMZV1E05DP7XYXW9PP4 to complete: ExecutionState.EXECUTING\n",
      "2024-03-07 16:14:05,320 INFO dune_client.api.base waiting for query execution 01HRCTWTMZV1E05DP7XYXW9PP4 to complete: ExecutionState.EXECUTING\n",
      "2024-03-07 16:14:06,442 INFO dune_client.api.base waiting for query execution 01HRCTWTMZV1E05DP7XYXW9PP4 to complete: ExecutionState.EXECUTING\n",
      "2024-03-07 16:14:07,566 INFO dune_client.api.base waiting for query execution 01HRCTWTMZV1E05DP7XYXW9PP4 to complete: ExecutionState.EXECUTING\n",
      "2024-03-07 16:14:08,689 INFO dune_client.api.base waiting for query execution 01HRCTWTMZV1E05DP7XYXW9PP4 to complete: ExecutionState.EXECUTING\n",
      "2024-03-07 16:14:09,829 INFO dune_client.api.base waiting for query execution 01HRCTWTMZV1E05DP7XYXW9PP4 to complete: ExecutionState.EXECUTING\n",
      "2024-03-07 16:14:10,976 INFO dune_client.api.base waiting for query execution 01HRCTWTMZV1E05DP7XYXW9PP4 to complete: ExecutionState.EXECUTING\n",
      "2024-03-07 16:14:12,096 INFO dune_client.api.base waiting for query execution 01HRCTWTMZV1E05DP7XYXW9PP4 to complete: ExecutionState.EXECUTING\n",
      "2024-03-07 16:14:13,214 INFO dune_client.api.base waiting for query execution 01HRCTWTMZV1E05DP7XYXW9PP4 to complete: ExecutionState.EXECUTING\n",
      "2024-03-07 16:14:14,337 INFO dune_client.api.base waiting for query execution 01HRCTWTMZV1E05DP7XYXW9PP4 to complete: ExecutionState.EXECUTING\n",
      "2024-03-07 16:14:15,452 INFO dune_client.api.base waiting for query execution 01HRCTWTMZV1E05DP7XYXW9PP4 to complete: ExecutionState.EXECUTING\n",
      "2024-03-07 16:14:16,580 INFO dune_client.api.base waiting for query execution 01HRCTWTMZV1E05DP7XYXW9PP4 to complete: ExecutionState.EXECUTING\n",
      "2024-03-07 16:14:17,728 INFO dune_client.api.base waiting for query execution 01HRCTWTMZV1E05DP7XYXW9PP4 to complete: ExecutionState.EXECUTING\n",
      "2024-03-07 16:14:18,844 INFO dune_client.api.base waiting for query execution 01HRCTWTMZV1E05DP7XYXW9PP4 to complete: ExecutionState.EXECUTING\n",
      "2024-03-07 16:14:19,977 INFO dune_client.api.base waiting for query execution 01HRCTWTMZV1E05DP7XYXW9PP4 to complete: ExecutionState.EXECUTING\n",
      "2024-03-07 16:14:21,092 INFO dune_client.api.base waiting for query execution 01HRCTWTMZV1E05DP7XYXW9PP4 to complete: ExecutionState.EXECUTING\n",
      "2024-03-07 16:14:22,270 INFO dune_client.api.base waiting for query execution 01HRCTWTMZV1E05DP7XYXW9PP4 to complete: ExecutionState.EXECUTING\n",
      "2024-03-07 16:14:23,408 INFO dune_client.api.base waiting for query execution 01HRCTWTMZV1E05DP7XYXW9PP4 to complete: ExecutionState.EXECUTING\n",
      "2024-03-07 16:14:24,547 INFO dune_client.api.base waiting for query execution 01HRCTWTMZV1E05DP7XYXW9PP4 to complete: ExecutionState.EXECUTING\n",
      "2024-03-07 16:14:25,692 INFO dune_client.api.base waiting for query execution 01HRCTWTMZV1E05DP7XYXW9PP4 to complete: ExecutionState.EXECUTING\n",
      "2024-03-07 16:14:26,811 INFO dune_client.api.base waiting for query execution 01HRCTWTMZV1E05DP7XYXW9PP4 to complete: ExecutionState.EXECUTING\n",
      "2024-03-07 16:14:27,935 INFO dune_client.api.base waiting for query execution 01HRCTWTMZV1E05DP7XYXW9PP4 to complete: ExecutionState.EXECUTING\n",
      "2024-03-07 16:14:29,075 INFO dune_client.api.base waiting for query execution 01HRCTWTMZV1E05DP7XYXW9PP4 to complete: ExecutionState.EXECUTING\n",
      "2024-03-07 16:14:30,197 INFO dune_client.api.base waiting for query execution 01HRCTWTMZV1E05DP7XYXW9PP4 to complete: ExecutionState.EXECUTING\n",
      "2024-03-07 16:14:31,313 INFO dune_client.api.base waiting for query execution 01HRCTWTMZV1E05DP7XYXW9PP4 to complete: ExecutionState.EXECUTING\n",
      "2024-03-07 16:14:32,451 INFO dune_client.api.base waiting for query execution 01HRCTWTMZV1E05DP7XYXW9PP4 to complete: ExecutionState.EXECUTING\n",
      "2024-03-07 16:14:33,574 INFO dune_client.api.base waiting for query execution 01HRCTWTMZV1E05DP7XYXW9PP4 to complete: ExecutionState.EXECUTING\n",
      "2024-03-07 16:14:34,697 INFO dune_client.api.base waiting for query execution 01HRCTWTMZV1E05DP7XYXW9PP4 to complete: ExecutionState.EXECUTING\n",
      "2024-03-07 16:14:35,825 INFO dune_client.api.base waiting for query execution 01HRCTWTMZV1E05DP7XYXW9PP4 to complete: ExecutionState.EXECUTING\n",
      "2024-03-07 16:14:36,956 INFO dune_client.api.base waiting for query execution 01HRCTWTMZV1E05DP7XYXW9PP4 to complete: ExecutionState.EXECUTING\n",
      "2024-03-07 16:14:38,074 INFO dune_client.api.base waiting for query execution 01HRCTWTMZV1E05DP7XYXW9PP4 to complete: ExecutionState.EXECUTING\n",
      "2024-03-07 16:14:39,205 INFO dune_client.api.base waiting for query execution 01HRCTWTMZV1E05DP7XYXW9PP4 to complete: ExecutionState.EXECUTING\n",
      "2024-03-07 16:14:40,344 INFO dune_client.api.base waiting for query execution 01HRCTWTMZV1E05DP7XYXW9PP4 to complete: ExecutionState.EXECUTING\n",
      "2024-03-07 16:14:41,461 INFO dune_client.api.base waiting for query execution 01HRCTWTMZV1E05DP7XYXW9PP4 to complete: ExecutionState.EXECUTING\n",
      "2024-03-07 16:14:42,602 INFO dune_client.api.base waiting for query execution 01HRCTWTMZV1E05DP7XYXW9PP4 to complete: ExecutionState.EXECUTING\n",
      "2024-03-07 16:14:43,715 INFO dune_client.api.base waiting for query execution 01HRCTWTMZV1E05DP7XYXW9PP4 to complete: ExecutionState.EXECUTING\n",
      "2024-03-07 16:14:44,887 INFO dune_client.api.base waiting for query execution 01HRCTWTMZV1E05DP7XYXW9PP4 to complete: ExecutionState.EXECUTING\n",
      "2024-03-07 16:14:46,007 INFO dune_client.api.base waiting for query execution 01HRCTWTMZV1E05DP7XYXW9PP4 to complete: ExecutionState.EXECUTING\n",
      "2024-03-07 16:14:47,139 INFO dune_client.api.base waiting for query execution 01HRCTWTMZV1E05DP7XYXW9PP4 to complete: ExecutionState.EXECUTING\n",
      "2024-03-07 16:14:48,276 INFO dune_client.api.base waiting for query execution 01HRCTWTMZV1E05DP7XYXW9PP4 to complete: ExecutionState.EXECUTING\n",
      "2024-03-07 16:14:49,401 INFO dune_client.api.base waiting for query execution 01HRCTWTMZV1E05DP7XYXW9PP4 to complete: ExecutionState.EXECUTING\n",
      "2024-03-07 16:14:50,521 INFO dune_client.api.base waiting for query execution 01HRCTWTMZV1E05DP7XYXW9PP4 to complete: ExecutionState.EXECUTING\n",
      "2024-03-07 16:14:51,689 INFO dune_client.api.base waiting for query execution 01HRCTWTMZV1E05DP7XYXW9PP4 to complete: ExecutionState.EXECUTING\n",
      "2024-03-07 16:14:52,859 INFO dune_client.api.base waiting for query execution 01HRCTWTMZV1E05DP7XYXW9PP4 to complete: ExecutionState.EXECUTING\n",
      "2024-03-07 16:14:53,996 INFO dune_client.api.base waiting for query execution 01HRCTWTMZV1E05DP7XYXW9PP4 to complete: ExecutionState.EXECUTING\n",
      "2024-03-07 16:14:55,128 INFO dune_client.api.base waiting for query execution 01HRCTWTMZV1E05DP7XYXW9PP4 to complete: ExecutionState.EXECUTING\n",
      "2024-03-07 16:14:56,259 INFO dune_client.api.base waiting for query execution 01HRCTWTMZV1E05DP7XYXW9PP4 to complete: ExecutionState.EXECUTING\n",
      "2024-03-07 16:14:57,376 INFO dune_client.api.base waiting for query execution 01HRCTWTMZV1E05DP7XYXW9PP4 to complete: ExecutionState.EXECUTING\n",
      "2024-03-07 16:14:58,499 INFO dune_client.api.base waiting for query execution 01HRCTWTMZV1E05DP7XYXW9PP4 to complete: ExecutionState.EXECUTING\n",
      "2024-03-07 16:14:59,616 INFO dune_client.api.base waiting for query execution 01HRCTWTMZV1E05DP7XYXW9PP4 to complete: ExecutionState.EXECUTING\n",
      "2024-03-07 16:15:00,733 INFO dune_client.api.base waiting for query execution 01HRCTWTMZV1E05DP7XYXW9PP4 to complete: ExecutionState.EXECUTING\n",
      "2024-03-07 16:15:01,858 INFO dune_client.api.base waiting for query execution 01HRCTWTMZV1E05DP7XYXW9PP4 to complete: ExecutionState.EXECUTING\n",
      "2024-03-07 16:15:02,990 INFO dune_client.api.base waiting for query execution 01HRCTWTMZV1E05DP7XYXW9PP4 to complete: ExecutionState.EXECUTING\n",
      "2024-03-07 16:15:04,204 INFO dune_client.api.base waiting for query execution 01HRCTWTMZV1E05DP7XYXW9PP4 to complete: ExecutionState.EXECUTING\n",
      "2024-03-07 16:15:05,325 INFO dune_client.api.base waiting for query execution 01HRCTWTMZV1E05DP7XYXW9PP4 to complete: ExecutionState.EXECUTING\n",
      "2024-03-07 16:15:06,444 INFO dune_client.api.base waiting for query execution 01HRCTWTMZV1E05DP7XYXW9PP4 to complete: ExecutionState.EXECUTING\n"
     ]
    },
    {
     "name": "stderr",
     "output_type": "stream",
     "text": [
      "2024-03-07 16:15:07,583 INFO dune_client.api.base waiting for query execution 01HRCTWTMZV1E05DP7XYXW9PP4 to complete: ExecutionState.EXECUTING\n",
      "2024-03-07 16:15:08,749 INFO dune_client.api.base waiting for query execution 01HRCTWTMZV1E05DP7XYXW9PP4 to complete: ExecutionState.EXECUTING\n",
      "2024-03-07 16:15:09,866 INFO dune_client.api.base waiting for query execution 01HRCTWTMZV1E05DP7XYXW9PP4 to complete: ExecutionState.EXECUTING\n",
      "2024-03-07 16:15:10,982 INFO dune_client.api.base waiting for query execution 01HRCTWTMZV1E05DP7XYXW9PP4 to complete: ExecutionState.EXECUTING\n",
      "2024-03-07 16:15:12,108 INFO dune_client.api.base waiting for query execution 01HRCTWTMZV1E05DP7XYXW9PP4 to complete: ExecutionState.EXECUTING\n",
      "2024-03-07 16:15:13,234 INFO dune_client.api.base waiting for query execution 01HRCTWTMZV1E05DP7XYXW9PP4 to complete: ExecutionState.EXECUTING\n",
      "2024-03-07 16:15:14,345 INFO dune_client.api.base waiting for query execution 01HRCTWTMZV1E05DP7XYXW9PP4 to complete: ExecutionState.EXECUTING\n",
      "2024-03-07 16:15:15,471 INFO dune_client.api.base waiting for query execution 01HRCTWTMZV1E05DP7XYXW9PP4 to complete: ExecutionState.EXECUTING\n",
      "2024-03-07 16:15:16,589 INFO dune_client.api.base waiting for query execution 01HRCTWTMZV1E05DP7XYXW9PP4 to complete: ExecutionState.EXECUTING\n",
      "2024-03-07 16:15:17,758 INFO dune_client.api.base waiting for query execution 01HRCTWTMZV1E05DP7XYXW9PP4 to complete: ExecutionState.EXECUTING\n",
      "2024-03-07 16:15:18,867 INFO dune_client.api.base waiting for query execution 01HRCTWTMZV1E05DP7XYXW9PP4 to complete: ExecutionState.EXECUTING\n",
      "2024-03-07 16:15:19,978 INFO dune_client.api.base waiting for query execution 01HRCTWTMZV1E05DP7XYXW9PP4 to complete: ExecutionState.EXECUTING\n",
      "2024-03-07 16:15:21,125 INFO dune_client.api.base waiting for query execution 01HRCTWTMZV1E05DP7XYXW9PP4 to complete: ExecutionState.EXECUTING\n",
      "2024-03-07 16:15:22,277 INFO dune_client.api.base waiting for query execution 01HRCTWTMZV1E05DP7XYXW9PP4 to complete: ExecutionState.EXECUTING\n",
      "2024-03-07 16:15:23,416 INFO dune_client.api.base waiting for query execution 01HRCTWTMZV1E05DP7XYXW9PP4 to complete: ExecutionState.EXECUTING\n",
      "2024-03-07 16:15:24,549 INFO dune_client.api.base waiting for query execution 01HRCTWTMZV1E05DP7XYXW9PP4 to complete: ExecutionState.EXECUTING\n",
      "2024-03-07 16:15:25,694 INFO dune_client.api.base waiting for query execution 01HRCTWTMZV1E05DP7XYXW9PP4 to complete: ExecutionState.EXECUTING\n",
      "2024-03-07 16:15:26,810 INFO dune_client.api.base waiting for query execution 01HRCTWTMZV1E05DP7XYXW9PP4 to complete: ExecutionState.EXECUTING\n",
      "2024-03-07 16:15:27,952 INFO dune_client.api.base waiting for query execution 01HRCTWTMZV1E05DP7XYXW9PP4 to complete: ExecutionState.EXECUTING\n",
      "2024-03-07 16:15:29,068 INFO dune_client.api.base waiting for query execution 01HRCTWTMZV1E05DP7XYXW9PP4 to complete: ExecutionState.EXECUTING\n",
      "2024-03-07 16:15:30,184 INFO dune_client.api.base waiting for query execution 01HRCTWTMZV1E05DP7XYXW9PP4 to complete: ExecutionState.EXECUTING\n",
      "2024-03-07 16:15:31,301 INFO dune_client.api.base waiting for query execution 01HRCTWTMZV1E05DP7XYXW9PP4 to complete: ExecutionState.EXECUTING\n",
      "2024-03-07 16:15:32,438 INFO dune_client.api.base waiting for query execution 01HRCTWTMZV1E05DP7XYXW9PP4 to complete: ExecutionState.EXECUTING\n",
      "2024-03-07 16:15:33,564 INFO dune_client.api.base waiting for query execution 01HRCTWTMZV1E05DP7XYXW9PP4 to complete: ExecutionState.EXECUTING\n",
      "2024-03-07 16:15:34,678 INFO dune_client.api.base waiting for query execution 01HRCTWTMZV1E05DP7XYXW9PP4 to complete: ExecutionState.EXECUTING\n",
      "2024-03-07 16:15:35,812 INFO dune_client.api.base waiting for query execution 01HRCTWTMZV1E05DP7XYXW9PP4 to complete: ExecutionState.EXECUTING\n",
      "2024-03-07 16:15:36,930 INFO dune_client.api.base waiting for query execution 01HRCTWTMZV1E05DP7XYXW9PP4 to complete: ExecutionState.EXECUTING\n",
      "2024-03-07 16:15:38,060 INFO dune_client.api.base waiting for query execution 01HRCTWTMZV1E05DP7XYXW9PP4 to complete: ExecutionState.EXECUTING\n",
      "2024-03-07 16:15:39,171 INFO dune_client.api.base waiting for query execution 01HRCTWTMZV1E05DP7XYXW9PP4 to complete: ExecutionState.EXECUTING\n",
      "2024-03-07 16:15:40,288 INFO dune_client.api.base waiting for query execution 01HRCTWTMZV1E05DP7XYXW9PP4 to complete: ExecutionState.EXECUTING\n",
      "2024-03-07 16:15:41,425 INFO dune_client.api.base waiting for query execution 01HRCTWTMZV1E05DP7XYXW9PP4 to complete: ExecutionState.EXECUTING\n",
      "2024-03-07 16:15:42,542 INFO dune_client.api.base waiting for query execution 01HRCTWTMZV1E05DP7XYXW9PP4 to complete: ExecutionState.EXECUTING\n",
      "2024-03-07 16:15:43,663 INFO dune_client.api.base waiting for query execution 01HRCTWTMZV1E05DP7XYXW9PP4 to complete: ExecutionState.EXECUTING\n",
      "2024-03-07 16:15:44,797 INFO dune_client.api.base waiting for query execution 01HRCTWTMZV1E05DP7XYXW9PP4 to complete: ExecutionState.EXECUTING\n",
      "2024-03-07 16:15:45,920 INFO dune_client.api.base waiting for query execution 01HRCTWTMZV1E05DP7XYXW9PP4 to complete: ExecutionState.EXECUTING\n",
      "2024-03-07 16:15:47,038 INFO dune_client.api.base waiting for query execution 01HRCTWTMZV1E05DP7XYXW9PP4 to complete: ExecutionState.EXECUTING\n",
      "2024-03-07 16:15:48,161 INFO dune_client.api.base waiting for query execution 01HRCTWTMZV1E05DP7XYXW9PP4 to complete: ExecutionState.EXECUTING\n",
      "2024-03-07 16:15:49,281 INFO dune_client.api.base waiting for query execution 01HRCTWTMZV1E05DP7XYXW9PP4 to complete: ExecutionState.EXECUTING\n",
      "2024-03-07 16:15:50,396 INFO dune_client.api.base waiting for query execution 01HRCTWTMZV1E05DP7XYXW9PP4 to complete: ExecutionState.EXECUTING\n",
      "2024-03-07 16:15:51,542 INFO dune_client.api.base waiting for query execution 01HRCTWTMZV1E05DP7XYXW9PP4 to complete: ExecutionState.EXECUTING\n",
      "2024-03-07 16:15:52,672 INFO dune_client.api.base waiting for query execution 01HRCTWTMZV1E05DP7XYXW9PP4 to complete: ExecutionState.EXECUTING\n",
      "2024-03-07 16:15:53,808 INFO dune_client.api.base waiting for query execution 01HRCTWTMZV1E05DP7XYXW9PP4 to complete: ExecutionState.EXECUTING\n",
      "2024-03-07 16:15:54,955 INFO dune_client.api.base waiting for query execution 01HRCTWTMZV1E05DP7XYXW9PP4 to complete: ExecutionState.EXECUTING\n",
      "2024-03-07 16:15:56,101 INFO dune_client.api.base waiting for query execution 01HRCTWTMZV1E05DP7XYXW9PP4 to complete: ExecutionState.EXECUTING\n",
      "2024-03-07 16:15:57,216 INFO dune_client.api.base waiting for query execution 01HRCTWTMZV1E05DP7XYXW9PP4 to complete: ExecutionState.EXECUTING\n",
      "2024-03-07 16:15:58,336 INFO dune_client.api.base waiting for query execution 01HRCTWTMZV1E05DP7XYXW9PP4 to complete: ExecutionState.EXECUTING\n",
      "2024-03-07 16:15:59,456 INFO dune_client.api.base waiting for query execution 01HRCTWTMZV1E05DP7XYXW9PP4 to complete: ExecutionState.EXECUTING\n",
      "2024-03-07 16:16:00,576 INFO dune_client.api.base waiting for query execution 01HRCTWTMZV1E05DP7XYXW9PP4 to complete: ExecutionState.EXECUTING\n",
      "2024-03-07 16:16:01,698 INFO dune_client.api.base waiting for query execution 01HRCTWTMZV1E05DP7XYXW9PP4 to complete: ExecutionState.EXECUTING\n",
      "2024-03-07 16:16:02,840 INFO dune_client.api.base waiting for query execution 01HRCTWTMZV1E05DP7XYXW9PP4 to complete: ExecutionState.EXECUTING\n",
      "2024-03-07 16:16:03,961 INFO dune_client.api.base waiting for query execution 01HRCTWTMZV1E05DP7XYXW9PP4 to complete: ExecutionState.EXECUTING\n",
      "2024-03-07 16:16:05,087 INFO dune_client.api.base waiting for query execution 01HRCTWTMZV1E05DP7XYXW9PP4 to complete: ExecutionState.EXECUTING\n",
      "2024-03-07 16:16:06,205 INFO dune_client.api.base waiting for query execution 01HRCTWTMZV1E05DP7XYXW9PP4 to complete: ExecutionState.EXECUTING\n",
      "2024-03-07 16:16:07,327 INFO dune_client.api.base waiting for query execution 01HRCTWTMZV1E05DP7XYXW9PP4 to complete: ExecutionState.EXECUTING\n",
      "2024-03-07 16:16:08,448 INFO dune_client.api.base waiting for query execution 01HRCTWTMZV1E05DP7XYXW9PP4 to complete: ExecutionState.EXECUTING\n",
      "2024-03-07 16:16:09,579 INFO dune_client.api.base waiting for query execution 01HRCTWTMZV1E05DP7XYXW9PP4 to complete: ExecutionState.EXECUTING\n",
      "2024-03-07 16:16:10,711 INFO dune_client.api.base waiting for query execution 01HRCTWTMZV1E05DP7XYXW9PP4 to complete: ExecutionState.EXECUTING\n",
      "2024-03-07 16:16:11,826 INFO dune_client.api.base waiting for query execution 01HRCTWTMZV1E05DP7XYXW9PP4 to complete: ExecutionState.EXECUTING\n"
     ]
    },
    {
     "name": "stderr",
     "output_type": "stream",
     "text": [
      "2024-03-07 16:16:12,957 INFO dune_client.api.base waiting for query execution 01HRCTWTMZV1E05DP7XYXW9PP4 to complete: ExecutionState.EXECUTING\n",
      "2024-03-07 16:16:14,080 INFO dune_client.api.base waiting for query execution 01HRCTWTMZV1E05DP7XYXW9PP4 to complete: ExecutionState.EXECUTING\n",
      "2024-03-07 16:16:15,192 INFO dune_client.api.base waiting for query execution 01HRCTWTMZV1E05DP7XYXW9PP4 to complete: ExecutionState.EXECUTING\n",
      "2024-03-07 16:16:16,321 INFO dune_client.api.base waiting for query execution 01HRCTWTMZV1E05DP7XYXW9PP4 to complete: ExecutionState.EXECUTING\n",
      "2024-03-07 16:16:17,437 INFO dune_client.api.base waiting for query execution 01HRCTWTMZV1E05DP7XYXW9PP4 to complete: ExecutionState.EXECUTING\n",
      "2024-03-07 16:16:18,556 INFO dune_client.api.base waiting for query execution 01HRCTWTMZV1E05DP7XYXW9PP4 to complete: ExecutionState.EXECUTING\n",
      "2024-03-07 16:16:19,671 INFO dune_client.api.base waiting for query execution 01HRCTWTMZV1E05DP7XYXW9PP4 to complete: ExecutionState.EXECUTING\n",
      "2024-03-07 16:16:20,815 INFO dune_client.api.base waiting for query execution 01HRCTWTMZV1E05DP7XYXW9PP4 to complete: ExecutionState.EXECUTING\n",
      "2024-03-07 16:16:21,932 INFO dune_client.api.base waiting for query execution 01HRCTWTMZV1E05DP7XYXW9PP4 to complete: ExecutionState.EXECUTING\n",
      "2024-03-07 16:16:23,116 INFO dune_client.api.base waiting for query execution 01HRCTWTMZV1E05DP7XYXW9PP4 to complete: ExecutionState.EXECUTING\n",
      "2024-03-07 16:16:24,321 INFO dune_client.api.base waiting for query execution 01HRCTWTMZV1E05DP7XYXW9PP4 to complete: ExecutionState.EXECUTING\n",
      "2024-03-07 16:16:25,490 INFO dune_client.api.base waiting for query execution 01HRCTWTMZV1E05DP7XYXW9PP4 to complete: ExecutionState.EXECUTING\n",
      "2024-03-07 16:16:26,622 INFO dune_client.api.base waiting for query execution 01HRCTWTMZV1E05DP7XYXW9PP4 to complete: ExecutionState.EXECUTING\n",
      "2024-03-07 16:16:27,743 INFO dune_client.api.base waiting for query execution 01HRCTWTMZV1E05DP7XYXW9PP4 to complete: ExecutionState.EXECUTING\n",
      "2024-03-07 16:16:28,853 INFO dune_client.api.base waiting for query execution 01HRCTWTMZV1E05DP7XYXW9PP4 to complete: ExecutionState.EXECUTING\n",
      "2024-03-07 16:16:29,992 INFO dune_client.api.base waiting for query execution 01HRCTWTMZV1E05DP7XYXW9PP4 to complete: ExecutionState.EXECUTING\n",
      "2024-03-07 16:16:31,127 INFO dune_client.api.base waiting for query execution 01HRCTWTMZV1E05DP7XYXW9PP4 to complete: ExecutionState.EXECUTING\n",
      "2024-03-07 16:16:32,240 INFO dune_client.api.base waiting for query execution 01HRCTWTMZV1E05DP7XYXW9PP4 to complete: ExecutionState.EXECUTING\n",
      "2024-03-07 16:16:33,356 INFO dune_client.api.base waiting for query execution 01HRCTWTMZV1E05DP7XYXW9PP4 to complete: ExecutionState.EXECUTING\n",
      "2024-03-07 16:16:34,487 INFO dune_client.api.base waiting for query execution 01HRCTWTMZV1E05DP7XYXW9PP4 to complete: ExecutionState.EXECUTING\n",
      "2024-03-07 16:16:35,612 INFO dune_client.api.base waiting for query execution 01HRCTWTMZV1E05DP7XYXW9PP4 to complete: ExecutionState.EXECUTING\n",
      "2024-03-07 16:16:36,729 INFO dune_client.api.base waiting for query execution 01HRCTWTMZV1E05DP7XYXW9PP4 to complete: ExecutionState.EXECUTING\n",
      "2024-03-07 16:16:37,854 INFO dune_client.api.base waiting for query execution 01HRCTWTMZV1E05DP7XYXW9PP4 to complete: ExecutionState.EXECUTING\n"
     ]
    }
   ],
   "source": [
    "from dune_client.types import QueryParameter\n",
    "from dune_client.client import DuneClient\n",
    "from dune_client.query import QueryBase\n",
    "\n",
    "\n",
    "api_key = \"rPM2EpHzzXL4jXgA5YSBCgwPJmwuooGc\"\n",
    "\n",
    "query = QueryBase(\n",
    "    name=\"playtest_user_info\",\n",
    "    query_id=3456959,\n",
    ")\n",
    "print(\"Results available at\", query.url())\n",
    "\n",
    "dune = DuneClient(api_key = api_key)\n",
    "#results = dune.run_query_csv(query)\n",
    "\n",
    "# or as CSV\n",
    "# results_csv = dune.run_query_csv(query)\n",
    "\n",
    "# or as Pandas Dataframe\n",
    "df = dune.run_query_dataframe(query)"
   ]
  },
  {
   "cell_type": "code",
   "execution_count": 4,
   "id": "931a7357",
   "metadata": {},
   "outputs": [
    {
     "data": {
      "text/html": [
       "<div>\n",
       "<style scoped>\n",
       "    .dataframe tbody tr th:only-of-type {\n",
       "        vertical-align: middle;\n",
       "    }\n",
       "\n",
       "    .dataframe tbody tr th {\n",
       "        vertical-align: top;\n",
       "    }\n",
       "\n",
       "    .dataframe thead th {\n",
       "        text-align: right;\n",
       "    }\n",
       "</style>\n",
       "<table border=\"1\" class=\"dataframe\">\n",
       "  <thead>\n",
       "    <tr style=\"text-align: right;\">\n",
       "      <th></th>\n",
       "      <th>wallet_id</th>\n",
       "      <th>total_balance</th>\n",
       "      <th>nft_bought</th>\n",
       "      <th>nft_sold</th>\n",
       "      <th>questflags</th>\n",
       "      <th>country_code</th>\n",
       "      <th>realised_Webb_profit</th>\n",
       "    </tr>\n",
       "  </thead>\n",
       "  <tbody>\n",
       "    <tr>\n",
       "      <th>0</th>\n",
       "      <td>0xf83d06a8c835160c9b24a038ec7fd7a625d0bf59</td>\n",
       "      <td>54.884808</td>\n",
       "      <td>9</td>\n",
       "      <td>10</td>\n",
       "      <td>[\"player_has_entered_dc\",\"major_ability\",\"play...</td>\n",
       "      <td>Malaysia</td>\n",
       "      <td>0.000000</td>\n",
       "    </tr>\n",
       "    <tr>\n",
       "      <th>1</th>\n",
       "      <td>0x4f877ba95172a60c5617ffd64df2697d2a3dbcfe</td>\n",
       "      <td>80.680723</td>\n",
       "      <td>0</td>\n",
       "      <td>14</td>\n",
       "      <td>[\"player_has_entered_dc\"]</td>\n",
       "      <td>Singapore</td>\n",
       "      <td>0.000000</td>\n",
       "    </tr>\n",
       "    <tr>\n",
       "      <th>2</th>\n",
       "      <td>0xbd0b60fe77ee2d0391e355b8357b02b64457f36d</td>\n",
       "      <td>0.000000</td>\n",
       "      <td>0</td>\n",
       "      <td>0</td>\n",
       "      <td>[\"player_has_entered_dc\"]</td>\n",
       "      <td>Netherlands</td>\n",
       "      <td>0.000000</td>\n",
       "    </tr>\n",
       "    <tr>\n",
       "      <th>3</th>\n",
       "      <td>0x616e74d65e09354ef3f569d1359f2b2761889ceb</td>\n",
       "      <td>56.277871</td>\n",
       "      <td>44</td>\n",
       "      <td>145</td>\n",
       "      <td>[\"player_has_entered_dc\",\"major_ability\",\"play...</td>\n",
       "      <td>India</td>\n",
       "      <td>0.000000</td>\n",
       "    </tr>\n",
       "    <tr>\n",
       "      <th>4</th>\n",
       "      <td>0x61152942107df692a184b193f08991dd20fde8f5</td>\n",
       "      <td>58.668550</td>\n",
       "      <td>0</td>\n",
       "      <td>7</td>\n",
       "      <td>[\"player_has_entered_dc\"]</td>\n",
       "      <td>Japan</td>\n",
       "      <td>0.000000</td>\n",
       "    </tr>\n",
       "    <tr>\n",
       "      <th>...</th>\n",
       "      <td>...</td>\n",
       "      <td>...</td>\n",
       "      <td>...</td>\n",
       "      <td>...</td>\n",
       "      <td>...</td>\n",
       "      <td>...</td>\n",
       "      <td>...</td>\n",
       "    </tr>\n",
       "    <tr>\n",
       "      <th>1783</th>\n",
       "      <td>0x608aa61abc6e5aadf8f607e135f10505f3cd06c9</td>\n",
       "      <td>27.945703</td>\n",
       "      <td>50</td>\n",
       "      <td>42</td>\n",
       "      <td>[\"player_has_entered_dc\",\"major_ability\",\"dc_p...</td>\n",
       "      <td>Switzerland</td>\n",
       "      <td>20367.306282</td>\n",
       "    </tr>\n",
       "    <tr>\n",
       "      <th>1784</th>\n",
       "      <td>0xd7543d14a1a388e95aa5648148837cdf33f718ec</td>\n",
       "      <td>1.458258</td>\n",
       "      <td>0</td>\n",
       "      <td>0</td>\n",
       "      <td>[\"player_has_entered_dc\",\"major_ability\",\"play...</td>\n",
       "      <td>Hong Kong</td>\n",
       "      <td>0.000000</td>\n",
       "    </tr>\n",
       "    <tr>\n",
       "      <th>1785</th>\n",
       "      <td>0x1bb486ddf92c84180551637cc9d6e7b9312a87c1</td>\n",
       "      <td>0.354558</td>\n",
       "      <td>0</td>\n",
       "      <td>0</td>\n",
       "      <td>[\"player_has_entered_dc\"]</td>\n",
       "      <td>United States</td>\n",
       "      <td>0.000000</td>\n",
       "    </tr>\n",
       "    <tr>\n",
       "      <th>1786</th>\n",
       "      <td>0xd5114dd602e5bf5d07c8e2242637d6350e71a062</td>\n",
       "      <td>0.000000</td>\n",
       "      <td>0</td>\n",
       "      <td>0</td>\n",
       "      <td>[\"player_has_entered_dc\",\"player_has_extracted...</td>\n",
       "      <td>Singapore</td>\n",
       "      <td>0.000000</td>\n",
       "    </tr>\n",
       "    <tr>\n",
       "      <th>1787</th>\n",
       "      <td>0xd83d03eeb4da961086cedd68a5f20d5f1ec73550</td>\n",
       "      <td>0.000000</td>\n",
       "      <td>0</td>\n",
       "      <td>0</td>\n",
       "      <td>[\"player_has_entered_dc\",\"major_ability\"]</td>\n",
       "      <td>Hong Kong</td>\n",
       "      <td>0.000000</td>\n",
       "    </tr>\n",
       "  </tbody>\n",
       "</table>\n",
       "<p>1788 rows × 7 columns</p>\n",
       "</div>"
      ],
      "text/plain": [
       "                                       wallet_id  total_balance  nft_bought  \\\n",
       "0     0xf83d06a8c835160c9b24a038ec7fd7a625d0bf59      54.884808           9   \n",
       "1     0x4f877ba95172a60c5617ffd64df2697d2a3dbcfe      80.680723           0   \n",
       "2     0xbd0b60fe77ee2d0391e355b8357b02b64457f36d       0.000000           0   \n",
       "3     0x616e74d65e09354ef3f569d1359f2b2761889ceb      56.277871          44   \n",
       "4     0x61152942107df692a184b193f08991dd20fde8f5      58.668550           0   \n",
       "...                                          ...            ...         ...   \n",
       "1783  0x608aa61abc6e5aadf8f607e135f10505f3cd06c9      27.945703          50   \n",
       "1784  0xd7543d14a1a388e95aa5648148837cdf33f718ec       1.458258           0   \n",
       "1785  0x1bb486ddf92c84180551637cc9d6e7b9312a87c1       0.354558           0   \n",
       "1786  0xd5114dd602e5bf5d07c8e2242637d6350e71a062       0.000000           0   \n",
       "1787  0xd83d03eeb4da961086cedd68a5f20d5f1ec73550       0.000000           0   \n",
       "\n",
       "      nft_sold                                         questflags  \\\n",
       "0           10  [\"player_has_entered_dc\",\"major_ability\",\"play...   \n",
       "1           14                          [\"player_has_entered_dc\"]   \n",
       "2            0                          [\"player_has_entered_dc\"]   \n",
       "3          145  [\"player_has_entered_dc\",\"major_ability\",\"play...   \n",
       "4            7                          [\"player_has_entered_dc\"]   \n",
       "...        ...                                                ...   \n",
       "1783        42  [\"player_has_entered_dc\",\"major_ability\",\"dc_p...   \n",
       "1784         0  [\"player_has_entered_dc\",\"major_ability\",\"play...   \n",
       "1785         0                          [\"player_has_entered_dc\"]   \n",
       "1786         0  [\"player_has_entered_dc\",\"player_has_extracted...   \n",
       "1787         0          [\"player_has_entered_dc\",\"major_ability\"]   \n",
       "\n",
       "       country_code  realised_Webb_profit  \n",
       "0          Malaysia              0.000000  \n",
       "1         Singapore              0.000000  \n",
       "2       Netherlands              0.000000  \n",
       "3             India              0.000000  \n",
       "4             Japan              0.000000  \n",
       "...             ...                   ...  \n",
       "1783    Switzerland          20367.306282  \n",
       "1784      Hong Kong              0.000000  \n",
       "1785  United States              0.000000  \n",
       "1786      Singapore              0.000000  \n",
       "1787      Hong Kong              0.000000  \n",
       "\n",
       "[1788 rows x 7 columns]"
      ]
     },
     "execution_count": 4,
     "metadata": {},
     "output_type": "execute_result"
    }
   ],
   "source": [
    "df"
   ]
  },
  {
   "cell_type": "code",
   "execution_count": 5,
   "id": "94f47c7f",
   "metadata": {},
   "outputs": [
    {
     "name": "stdout",
     "output_type": "stream",
     "text": [
      "                                       wallet_id  total_balance  nft_bought  \\\n",
      "0     0xf83d06a8c835160c9b24a038ec7fd7a625d0bf59      54.884808           9   \n",
      "1     0x4f877ba95172a60c5617ffd64df2697d2a3dbcfe      80.680723           0   \n",
      "2     0xbd0b60fe77ee2d0391e355b8357b02b64457f36d       0.000000           0   \n",
      "3     0x616e74d65e09354ef3f569d1359f2b2761889ceb      56.277871          44   \n",
      "4     0x61152942107df692a184b193f08991dd20fde8f5      58.668550           0   \n",
      "...                                          ...            ...         ...   \n",
      "1783  0x608aa61abc6e5aadf8f607e135f10505f3cd06c9      27.945703          50   \n",
      "1784  0xd7543d14a1a388e95aa5648148837cdf33f718ec       1.458258           0   \n",
      "1785  0x1bb486ddf92c84180551637cc9d6e7b9312a87c1       0.354558           0   \n",
      "1786  0xd5114dd602e5bf5d07c8e2242637d6350e71a062       0.000000           0   \n",
      "1787  0xd83d03eeb4da961086cedd68a5f20d5f1ec73550       0.000000           0   \n",
      "\n",
      "      nft_sold                                         questflags  \\\n",
      "0           10  [\"player_has_entered_dc\",\"major_ability\",\"play...   \n",
      "1           14                          [\"player_has_entered_dc\"]   \n",
      "2            0                          [\"player_has_entered_dc\"]   \n",
      "3          145  [\"player_has_entered_dc\",\"major_ability\",\"play...   \n",
      "4            7                          [\"player_has_entered_dc\"]   \n",
      "...        ...                                                ...   \n",
      "1783        42  [\"player_has_entered_dc\",\"major_ability\",\"dc_p...   \n",
      "1784         0  [\"player_has_entered_dc\",\"major_ability\",\"play...   \n",
      "1785         0                          [\"player_has_entered_dc\"]   \n",
      "1786         0  [\"player_has_entered_dc\",\"player_has_extracted...   \n",
      "1787         0          [\"player_has_entered_dc\",\"major_ability\"]   \n",
      "\n",
      "       country_code  realised_Webb_profit  highest_combat_room  \n",
      "0          Malaysia              0.000000                    6  \n",
      "1         Singapore              0.000000                    1  \n",
      "2       Netherlands              0.000000                    1  \n",
      "3             India              0.000000                    6  \n",
      "4             Japan              0.000000                    1  \n",
      "...             ...                   ...                  ...  \n",
      "1783    Switzerland          20367.306282                   10  \n",
      "1784      Hong Kong              0.000000                    1  \n",
      "1785  United States              0.000000                    1  \n",
      "1786      Singapore              0.000000                    1  \n",
      "1787      Hong Kong              0.000000                    1  \n",
      "\n",
      "[1788 rows x 8 columns]\n"
     ]
    }
   ],
   "source": [
    "def find_highest_combat_room(flags_str):\n",
    "    # Convert the string representation of the list back to a list\n",
    "    try:\n",
    "        # Safely convert the string representation of the list back to a list\n",
    "        flags_list = eval(flags_str)\n",
    "    except (SyntaxError, NameError, TypeError):\n",
    "        # Return 0 if there is an error in converting flags_str\n",
    "        return 0\n",
    "    # Find all combat room numbers\n",
    "    room_numbers = [int(re.search(r'combat_room_(\\d+)', flag).group(1)) for flag in flags_list if 'combat_room' in flag]\n",
    "    if 'player_has_entered_dc' in flags_list:\n",
    "        room_numbers.append(1)\n",
    "    # Return the highest number found, or None if no combat room flags were found\n",
    "    return max(room_numbers) if room_numbers else 0\n",
    "\n",
    "# Apply the function to the 'flags' column and assign the result to a new column\n",
    "df['highest_combat_room'] = df['questflags'].apply(find_highest_combat_room)\n",
    "print(df)"
   ]
  },
  {
   "cell_type": "code",
   "execution_count": 6,
   "id": "b8debe4c",
   "metadata": {},
   "outputs": [],
   "source": [
    "df = df[df[\"realised_Webb_profit\"]!=0]\n",
    "Y = df[\"realised_Webb_profit\"] #target\n",
    "X= df.drop([\"wallet_id\",\"realised_Webb_profit\",\"questflags\",\"highest_combat_room\",\"total_balance\"], axis = 1) #features\n"
   ]
  },
  {
   "cell_type": "code",
   "execution_count": null,
   "id": "9fcbc9d0",
   "metadata": {},
   "outputs": [],
   "source": []
  },
  {
   "cell_type": "code",
   "execution_count": 7,
   "id": "07bc71e0",
   "metadata": {},
   "outputs": [],
   "source": [
    "categorical_cols = X.select_dtypes(include=['object', 'category']).columns\n",
    "numerical_cols = X.select_dtypes(include=['int64', 'float64']).columns"
   ]
  },
  {
   "cell_type": "code",
   "execution_count": 8,
   "id": "8b5c83ae",
   "metadata": {},
   "outputs": [],
   "source": [
    "\n",
    "\n",
    "numerical_transformer = Pipeline(steps = [('imputer', SimpleImputer(strategy='mean')),\n",
    "                               ('scaler', StandardScaler())])\n",
    "categorical_transformer = Pipeline(steps=[\n",
    "    ('imputer', SimpleImputer(strategy='most_frequent')),\n",
    "    ('onehot', OneHotEncoder(handle_unknown='ignore'))])\n",
    "\n",
    "preprocessor  = ColumnTransformer(transformers = \n",
    "        [('num', numerical_transformer, numerical_cols),\n",
    "        ('cat', categorical_transformer, categorical_cols)])\n",
    "\n",
    "X_transformed = preprocessor.fit_transform(X)\n",
    "\n",
    "# Directly accessing the one-hot encoder within the categorical transformer pipeline\n",
    "onehot_encoder = preprocessor.named_transformers_['cat'].named_steps['onehot']\n",
    "\n",
    "# Getting feature names from one-hot encoder for categorical columns\n",
    "onehot_feature_names = onehot_encoder.get_feature_names_out(categorical_cols)\n",
    "\n",
    "# Your numerical columns remain unchanged, so they are directly used\n",
    "numerical_feature_names = numerical_cols\n",
    "\n",
    "# Combining both sets of names\n",
    "feature_names = np.concatenate([numerical_feature_names, onehot_feature_names])\n",
    "\n",
    "X_transformed = X_transformed.toarray()\n",
    "\n",
    "\n"
   ]
  },
  {
   "cell_type": "code",
   "execution_count": null,
   "id": "2efa1938",
   "metadata": {},
   "outputs": [],
   "source": []
  },
  {
   "cell_type": "code",
   "execution_count": 9,
   "id": "23c96298",
   "metadata": {},
   "outputs": [],
   "source": [
    "# Linear regression \n",
    "X_train_LR, X_test_LR, y_train_LR, y_test_LR = train_test_split(X_transformed, Y, test_size=0.2, random_state=42)\n",
    "\n"
   ]
  },
  {
   "cell_type": "code",
   "execution_count": 10,
   "id": "d6116bad",
   "metadata": {},
   "outputs": [],
   "source": [
    "lr_model = LinearRegression()\n",
    "lr_model.fit(X_train_LR, y_train_LR)\n",
    "predictions_lr = lr_model.predict(X_test_LR)\n",
    "#mae_lr = mean_absolute_error(y_test_LR, predictions_lr)\n",
    "mse_lr = mean_squared_error(y_test_LR, predictions_lr)\n",
    "r2_lr = r2_score(y_test_LR, predictions_lr)"
   ]
  },
  {
   "cell_type": "code",
   "execution_count": 11,
   "id": "426d0bf5",
   "metadata": {},
   "outputs": [],
   "source": [
    "# Deep learning model\n",
    "Y_scaler = StandardScaler()\n",
    "Y_scaled = Y_scaler.fit_transform(Y.values.reshape(-1, 1)).flatten()  # Assuming Y is a pandas Series\n",
    "\n",
    "# Assuming your feature names are stored in X.columns after preprocessing\n"
   ]
  },
  {
   "cell_type": "code",
   "execution_count": 12,
   "id": "c9cff099",
   "metadata": {},
   "outputs": [],
   "source": [
    "X_train, X_test, Y_train, Y_test = train_test_split(X_transformed, Y_scaled, test_size=0.2, random_state=42)\n"
   ]
  },
  {
   "cell_type": "code",
   "execution_count": 13,
   "id": "0dd85302",
   "metadata": {},
   "outputs": [
    {
     "name": "stdout",
     "output_type": "stream",
     "text": [
      "Mean Squared Error: 0.015528133653201725\n"
     ]
    }
   ],
   "source": [
    "\n",
    "# Initialize the model\n",
    "xgbr = xgb.XGBRegressor(objective ='reg:squarederror', n_estimators=50, max_depth=1, learning_rate = 0.009,random_state=42)\n",
    "\n",
    "# Fit the model\n",
    "xgbr.fit(X_train, Y_train)\n",
    "\n",
    "# Make predictions\n",
    "predictions = xgbr.predict(X_test)\n",
    "\n",
    "# Evaluate the model\n",
    "mse = mean_squared_error(Y_test, predictions)\n",
    "print(f\"Mean Squared Error: {mse}\")\n",
    "\n",
    "\n"
   ]
  },
  {
   "cell_type": "code",
   "execution_count": 14,
   "id": "6d5e9a16",
   "metadata": {},
   "outputs": [
    {
     "name": "stdout",
     "output_type": "stream",
     "text": [
      "-0.0389429423774601\n"
     ]
    }
   ],
   "source": [
    "r2_dl = r2_score(Y_test, predictions)\n",
    "print(r2_dl)"
   ]
  },
  {
   "cell_type": "code",
   "execution_count": 15,
   "id": "ed9ba2fd",
   "metadata": {},
   "outputs": [],
   "source": [
    "param_grid = {'n_estimators' : [15,20,25,30,35,40],\n",
    "          'learning_rate' : [0.005,0.007,0.008,0.01],  \n",
    "         # 'min_child_weight': [1, 5, 10],  \n",
    "         # 'gamma': [0.5, 1, 5],  \n",
    "          #'subsample': [0.6, 0.8, 1.0],  \n",
    "          #'colsample_bytree': [0.6, 0.8, 1.0],  \n",
    "           'max_depth': [2,3,4,5,6,7,8]  \n",
    "         }  \n",
    "grid = GridSearchCV(xgb.XGBRegressor()\n",
    "                   ,param_grid\n",
    "                   ,n_jobs=1\n",
    "                   ,cv=3\n",
    "                   ,scoring='r2'\n",
    "                   ,verbose=1\n",
    "                   ,refit=True)"
   ]
  },
  {
   "cell_type": "code",
   "execution_count": 16,
   "id": "d586e829",
   "metadata": {},
   "outputs": [
    {
     "name": "stdout",
     "output_type": "stream",
     "text": [
      "Fitting 3 folds for each of 168 candidates, totalling 504 fits\n"
     ]
    }
   ],
   "source": [
    "grid_result = grid.fit(X_train, Y_train)\n"
   ]
  },
  {
   "cell_type": "code",
   "execution_count": 17,
   "id": "92ec2260",
   "metadata": {},
   "outputs": [
    {
     "name": "stdout",
     "output_type": "stream",
     "text": [
      "GridSearchCV(cv=3,\n",
      "             estimator=XGBRegressor(base_score=None, booster=None,\n",
      "                                    callbacks=None, colsample_bylevel=None,\n",
      "                                    colsample_bynode=None,\n",
      "                                    colsample_bytree=None, device=None,\n",
      "                                    early_stopping_rounds=None,\n",
      "                                    enable_categorical=False, eval_metric=None,\n",
      "                                    feature_types=None, gamma=None,\n",
      "                                    grow_policy=None, importance_type=None,\n",
      "                                    interaction_constraints=None,\n",
      "                                    learning_rate=None, m...\n",
      "                                    max_cat_to_onehot=None, max_delta_step=None,\n",
      "                                    max_depth=None, max_leaves=None,\n",
      "                                    min_child_weight=None, missing=nan,\n",
      "                                    monotone_constraints=None,\n",
      "                                    multi_strategy=None, n_estimators=None,\n",
      "                                    n_jobs=None, num_parallel_tree=None,\n",
      "                                    random_state=None, ...),\n",
      "             n_jobs=1,\n",
      "             param_grid={'learning_rate': [0.005, 0.007, 0.008, 0.01],\n",
      "                         'max_depth': [2, 3, 4, 5, 6, 7, 8],\n",
      "                         'n_estimators': [15, 20, 25, 30, 35, 40]},\n",
      "             scoring='r2', verbose=1)\n"
     ]
    }
   ],
   "source": [
    "print(grid_result)"
   ]
  },
  {
   "cell_type": "code",
   "execution_count": 18,
   "id": "1ac1d2fd",
   "metadata": {},
   "outputs": [
    {
     "name": "stdout",
     "output_type": "stream",
     "text": [
      "Best: -1.390501 using {'learning_rate': 0.005, 'max_depth': 2, 'n_estimators': 15}\n"
     ]
    }
   ],
   "source": [
    "print(\"Best: %f using %s\" % (grid_result.best_score_, grid_result.best_params_))\n",
    "best_params = grid_result.best_params_"
   ]
  },
  {
   "cell_type": "code",
   "execution_count": 19,
   "id": "ea32d5d7",
   "metadata": {},
   "outputs": [
    {
     "name": "stdout",
     "output_type": "stream",
     "text": [
      "Mean Squared Error: 0.018891920237346014\n"
     ]
    }
   ],
   "source": [
    "# Initialize the model\n",
    "xgbr = xgb.XGBRegressor(objective ='reg:squarederror', **best_params,random_state=42)\n",
    "\n",
    "# Fit the model\n",
    "xgbr.fit(X_train, Y_train)\n",
    "\n",
    "# Make predictions\n",
    "predictions = xgbr.predict(X_test)\n",
    "\n",
    "# Evaluate the model\n",
    "mse = mean_squared_error(Y_test, predictions)\n",
    "print(f\"Mean Squared Error: {mse}\")\n"
   ]
  },
  {
   "cell_type": "code",
   "execution_count": 20,
   "id": "26875261",
   "metadata": {},
   "outputs": [
    {
     "name": "stdout",
     "output_type": "stream",
     "text": [
      "[-0.00812218 -0.00812218 -0.00812218 -0.00812218 -0.00812218 -0.00812218\n",
      " -0.00812218 -0.00812218 -0.00812218 -0.00812218 -0.00812218  0.00065353\n",
      " -0.00812218 -0.00812218 -0.00812218 -0.00812218 -0.00812218 -0.00812218\n",
      " -0.00812218 -0.00812218 -0.00812218 -0.00812218 -0.00812218 -0.00812218\n",
      " -0.00812218 -0.00812218 -0.00812218 -0.00812218 -0.00812218 -0.00812218\n",
      " -0.00812218 -0.00812218 -0.00812218 -0.00812218 -0.00812218 -0.00812218\n",
      " -0.00812218 -0.00812218 -0.00812218 -0.00812218  0.00065353 -0.00812218\n",
      " -0.00812218 -0.00812218 -0.00812218]\n"
     ]
    }
   ],
   "source": [
    "print(predictions)"
   ]
  },
  {
   "cell_type": "code",
   "execution_count": 21,
   "id": "6685fe87",
   "metadata": {},
   "outputs": [
    {
     "name": "stdout",
     "output_type": "stream",
     "text": [
      "[ 0.07180386  0.06113614  0.07779151  0.0715879  -0.04183856  0.06309858\n",
      "  0.06131302  0.06201909  0.08989606  0.05714094  0.06308659  0.12742508\n",
      "  0.05052664  0.06081542  0.04783654  0.06276394  0.06166731 -0.04395645\n",
      "  0.06237389 -0.58796326  0.10674778  0.05367299  0.01344857  0.13959527\n",
      "  0.06181525  0.10469336  0.05753269  0.06350297  0.06610703  0.06523584\n",
      "  0.06295543  0.21463001  0.06132274  0.06184932 -0.14988606  0.06165686\n",
      "  0.0475512   0.04743013  0.0625655   0.06170721  0.04599541  0.42722104\n",
      "  0.06247421  0.15966186  0.04836356]\n"
     ]
    }
   ],
   "source": [
    "print(Y_test)\n"
   ]
  },
  {
   "cell_type": "code",
   "execution_count": null,
   "id": "812d9a43",
   "metadata": {},
   "outputs": [],
   "source": []
  },
  {
   "cell_type": "code",
   "execution_count": 22,
   "id": "b42cc8d8",
   "metadata": {},
   "outputs": [
    {
     "ename": "NameError",
     "evalue": "name 'best_model' is not defined",
     "output_type": "error",
     "traceback": [
      "\u001b[1;31m---------------------------------------------------------------------------\u001b[0m",
      "\u001b[1;31mNameError\u001b[0m                                 Traceback (most recent call last)",
      "\u001b[1;32m~\\AppData\\Local\\Temp\\ipykernel_20440\\3094724420.py\u001b[0m in \u001b[0;36m<module>\u001b[1;34m\u001b[0m\n\u001b[1;32m----> 1\u001b[1;33m \u001b[0mbest_model\u001b[0m\u001b[1;33m.\u001b[0m\u001b[0mevaluate\u001b[0m\u001b[1;33m(\u001b[0m\u001b[0mX_test\u001b[0m\u001b[1;33m,\u001b[0m\u001b[0mY_test\u001b[0m\u001b[1;33m)\u001b[0m\u001b[1;33m\u001b[0m\u001b[1;33m\u001b[0m\u001b[0m\n\u001b[0m",
      "\u001b[1;31mNameError\u001b[0m: name 'best_model' is not defined"
     ]
    }
   ],
   "source": [
    "best_model.evaluate(X_test,Y_test)"
   ]
  },
  {
   "cell_type": "code",
   "execution_count": null,
   "id": "41519a46",
   "metadata": {},
   "outputs": [],
   "source": [
    "print(X_train.shape,X_test.shape,Y_train.shape,Y_test.shape)"
   ]
  },
  {
   "cell_type": "code",
   "execution_count": null,
   "id": "124d792e",
   "metadata": {},
   "outputs": [],
   "source": [
    "#de scaling targets\n",
    "predictions_scaled = (best_model.predict(X_test)).flatten()\n",
    "predictions = Y_scaler.inverse_transform(predictions_scaled.reshape(-1,1)).flatten()\n",
    "Y_test = Y_scaler.inverse_transform(Y_test.reshape(-1,1)).flatten()"
   ]
  },
  {
   "cell_type": "code",
   "execution_count": null,
   "id": "cdf58609",
   "metadata": {},
   "outputs": [],
   "source": [
    "print(Y_test)"
   ]
  },
  {
   "cell_type": "code",
   "execution_count": null,
   "id": "2620d690",
   "metadata": {},
   "outputs": [],
   "source": [
    "comparison = pd.DataFrame({'Actual Profit' : Y_test, 'Predicted Profit' : predictions, 'Difference' : Y_test - predictions})\n",
    "print(comparison)"
   ]
  },
  {
   "cell_type": "code",
   "execution_count": null,
   "id": "8260b89c",
   "metadata": {},
   "outputs": [],
   "source": [
    "xa = np.arange(1,len(comparison)+1,step = 1)\n",
    "\n",
    "plt.bar(xa, comparison['Actual Profit'])#,s = 0.2)\n",
    "plt.bar(xa, comparison['Predicted Profit'])#, s = 0.2)"
   ]
  },
  {
   "cell_type": "code",
   "execution_count": null,
   "id": "cfc77466",
   "metadata": {},
   "outputs": [],
   "source": [
    "# Feature importance \n",
    "\n",
    "RFmodel = RandomForestRegressor(n_estimators=100, random_state=42)\n",
    "RFmodel.fit(X_train, Y_train)"
   ]
  },
  {
   "cell_type": "code",
   "execution_count": null,
   "id": "96d5973a",
   "metadata": {},
   "outputs": [],
   "source": [
    "\n",
    "# Get feature importances\n",
    "importances = RFmodel.feature_importances_\n",
    "\n",
    "# Transform the importances into a DataFrame for easier visualization\n",
    "feature_importance_df = pd.DataFrame({'Feature': feature_names, 'Importance': importances})\n",
    "\n",
    "# Sort the DataFrame to show the most important features at the top\n",
    "feature_importance_df = feature_importance_df.sort_values(by='Importance', ascending=False)\n",
    "\n",
    "# Display the feature importance\n",
    "#print(feature_importance_df)"
   ]
  },
  {
   "cell_type": "code",
   "execution_count": null,
   "id": "80a7e66f",
   "metadata": {},
   "outputs": [],
   "source": [
    "# Create a dictionary to hold the sum of importances for each original feature\n",
    "aggregate_importances = {feature: 0 for feature in numerical_cols}\n",
    "\n",
    "# OneHotEncoder features are prefixed with the original feature name, then an underscore, then the category\n",
    "# For example, \"country_US\", \"country_CA\" would both map back to \"country\"\n",
    "for feature, importance in zip(feature_names, importances):\n",
    "    # Check if the feature is one of the one-hot encoded features\n",
    "    if any(feature.startswith(cat_feature) for cat_feature in categorical_cols):\n",
    "        # Find the original feature name (everything before the first underscore)\n",
    "        original_feature = feature.split('_')[0]\n",
    "        # Aggregate the importances\n",
    "        aggregate_importances[original_feature] = aggregate_importances.get(original_feature, 0) + importance\n",
    "    else:\n",
    "        # For numerical features or any categorical features not one-hot encoded\n",
    "        aggregate_importances[feature] = importance\n",
    "\n",
    "# Convert aggregated importances back into a sorted DataFrame for visualization\n",
    "aggregated_feature_importance_df = pd.DataFrame(list(aggregate_importances.items()), columns=['Feature', 'Importance']).sort_values(by='Importance', ascending=False)"
   ]
  },
  {
   "cell_type": "code",
   "execution_count": null,
   "id": "fec72283",
   "metadata": {},
   "outputs": [],
   "source": [
    "# Create a dictionary to hold the sum of importances for each original feature\n",
    "aggregate_importances = {feature: 0 for feature in numerical_cols}\n",
    "\n",
    "# OneHotEncoder features are prefixed with the original feature name, then an underscore, then the category\n",
    "# For example, \"country_US\", \"country_CA\" would both map back to \"country\"\n",
    "for feature, importance in zip(feature_names, importances):\n",
    "    # Check if the feature is one of the one-hot encoded features\n",
    "    if any(feature.startswith(cat_feature) for cat_feature in categorical_cols):\n",
    "        # Find the original feature name (everything before the first underscore)\n",
    "        original_feature = feature.split('_')[0]\n",
    "        # Aggregate the importances\n",
    "        aggregate_importances[original_feature] = aggregate_importances.get(original_feature, 0) + importance\n",
    "    else:\n",
    "        # For numerical features or any categorical features not one-hot encoded\n",
    "        aggregate_importances[feature] = importance\n",
    "\n",
    "# Convert aggregated importances back into a sorted DataFrame for visualization\n",
    "aggregated_feature_importance_df = pd.DataFrame(list(aggregate_importances.items()), columns=['Feature', 'Importance']).sort_values(by='Importance', ascending=False)\n",
    "print(aggregated_feature_importance_df)"
   ]
  },
  {
   "cell_type": "code",
   "execution_count": null,
   "id": "27dac7af",
   "metadata": {},
   "outputs": [],
   "source": [
    "plt.bar(aggregated_feature_importance_df['Feature'],aggregated_feature_importance_df['Importance'])\n",
    "plt.xticks(rotation = 'vertical')\n",
    "plt.xlabel('Features')\n",
    "plt.ylabel('Importance')"
   ]
  },
  {
   "cell_type": "code",
   "execution_count": null,
   "id": "74b686a9",
   "metadata": {},
   "outputs": [],
   "source": [
    "def predict_target_for_walletid(wallet_id, df, preprocessor, model, y_scaler):\n",
    "    \"\"\"\n",
    "    Predicts the target for a given userid.\n",
    "    \n",
    "    Parameters:\n",
    "    - userid: The userid for which to predict the target.\n",
    "    - df: The original DataFrame containing userids, features, and targets.\n",
    "    - preprocessor: The fitted ColumnTransformer used for preprocessing.\n",
    "    - model: The trained prediction model.\n",
    "    - y_scaler: The scaler object used for the target variable.\n",
    "    \n",
    "    Returns:\n",
    "    - The predicted target for the given userid.\n",
    "    \"\"\"\n",
    "    predictions = {}\n",
    "    \n",
    "    for userid in wallet_ids:\n",
    "        # Extract features for the given userid\n",
    "        features = df[df['wallet_id'] == userid].drop(['wallet_id', 'realised_Webb_profit'], axis=1)\n",
    "        \n",
    "        # Skip if the user does not exist\n",
    "        if features.empty:\n",
    "            print(f\"Userid {userid} not found.\")\n",
    "            predictions[userid] = None\n",
    "            continue\n",
    "        \n",
    "        # Preprocess the features\n",
    "        features_transformed = preprocessor.transform(features)\n",
    "        \n",
    "        # Predict using the model\n",
    "        prediction_scaled = best_model.predict(features_transformed).flatten()\n",
    "        \n",
    "        # De-scale the prediction\n",
    "        prediction = y_scaler.inverse_transform(prediction_scaled.reshape(-1, 1)).flatten()\n",
    "        \n",
    "        # Store the prediction\n",
    "        predictions[userid] = prediction[0]\n",
    "    \n",
    "    return predictions"
   ]
  },
  {
   "cell_type": "code",
   "execution_count": null,
   "id": "ff9e4bfc",
   "metadata": {
    "scrolled": true
   },
   "outputs": [],
   "source": [
    "wallet_ids = [\"0x22ed7a936d3dea108004e3229f3bd3d84c7225db\",\n",
    "         \"0x734740c70db02f5710207f1d12df47c710665206\",\n",
    "         \"0x7b75bc70b928472856047fdef0d08d5b5816aefd\"]\n",
    "\n",
    "predicted_targets = predict_target_for_walletid(wallet_ids, df, preprocessor, best_model, Y_scaler)"
   ]
  },
  {
   "cell_type": "code",
   "execution_count": null,
   "id": "24edaf2b",
   "metadata": {},
   "outputs": [],
   "source": [
    "#print(predicted_targets)\n",
    "try:\n",
    "    for user, prediction in predicted_targets.items():\n",
    "        print(f\"Predicted target for userid {user}: {prediction:.1f}\")\n",
    "except:\n",
    "    print(f\"Predicted target for userid {users[0]}: {predicted_targets:.1f}\")\n"
   ]
  },
  {
   "cell_type": "code",
   "execution_count": null,
   "id": "52ec397a",
   "metadata": {},
   "outputs": [],
   "source": [
    "mae_dl = mean_absolute_error(Y_test, predictions)\n",
    "mse_dl = mean_squared_error(Y_test, predictions)\n",
    "r2_dl = r2_score(Y_test, predictions)"
   ]
  },
  {
   "cell_type": "code",
   "execution_count": null,
   "id": "b3356d03",
   "metadata": {},
   "outputs": [],
   "source": [
    "print(r2_lr)\n",
    "print(r2_dl)\n",
    "print(mse_dl)"
   ]
  },
  {
   "cell_type": "code",
   "execution_count": null,
   "id": "55df41f5",
   "metadata": {},
   "outputs": [],
   "source": [
    "print(np.average(Y_test))"
   ]
  },
  {
   "cell_type": "code",
   "execution_count": null,
   "id": "06c4b7fe",
   "metadata": {},
   "outputs": [],
   "source": []
  },
  {
   "cell_type": "code",
   "execution_count": null,
   "id": "180c58f3",
   "metadata": {},
   "outputs": [],
   "source": []
  },
  {
   "cell_type": "code",
   "execution_count": null,
   "id": "1361dede",
   "metadata": {},
   "outputs": [],
   "source": []
  },
  {
   "cell_type": "code",
   "execution_count": null,
   "id": "9f2401e1",
   "metadata": {},
   "outputs": [],
   "source": []
  },
  {
   "cell_type": "code",
   "execution_count": null,
   "id": "a3a04589",
   "metadata": {},
   "outputs": [],
   "source": []
  }
 ],
 "metadata": {
  "kernelspec": {
   "display_name": "Python 3 (ipykernel)",
   "language": "python",
   "name": "python3"
  },
  "language_info": {
   "codemirror_mode": {
    "name": "ipython",
    "version": 3
   },
   "file_extension": ".py",
   "mimetype": "text/x-python",
   "name": "python",
   "nbconvert_exporter": "python",
   "pygments_lexer": "ipython3",
   "version": "3.9.13"
  }
 },
 "nbformat": 4,
 "nbformat_minor": 5
}
